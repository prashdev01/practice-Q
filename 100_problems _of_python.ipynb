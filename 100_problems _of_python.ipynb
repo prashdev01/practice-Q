{
 "cells": [
  {
   "cell_type": "markdown",
   "metadata": {},
   "source": [
    "1.\tWhat is Python? What are its key features?\n",
    "2.\tWhat are the different types of data structures in Python?\n",
    "3.\tWhat is the difference between a list, tuple, and dictionary?\n",
    "4.\tWhat is the difference between a function and a method?\n",
    "5.\tWhat is the difference between a module and a package?\n",
    "6.\tWhat is OOP (Object-Oriented Programming)? What are the four pillars of OOP?\n",
    "7.\tWhat is the difference between inheritance and polymorphism?\n",
    "8.\tWhat is the Global Interpreter Lock (GIL)?\n",
    "9.\tWhat is PEP 8?\n",
    "10.\tWhat is the difference between interpreted and compiled languages?"
   ]
  },
  {
   "cell_type": "markdown",
   "metadata": {},
   "source": [
    "## what is python ? what are the key features of the python?\n",
    "python is a high level programing languege that is used for almost all the purpose . it is created by guido van rasam in 1991 it is used to wide range of applications like machine learnig and artificial intalegince there some other uess as well like web development or creating desktop applications , python is one of the most famous programing languege in nowdays that's it a huge community . behind this popularity of the python languauge there are some key features , like simple syntax and its very readable unlike other programimng languase python can be readable for any one who has some basic knowladge of the english and programing . beacuse of its simplisity it widely used by beginers as well as professsionals it has huge  no. of library support for python is a dynamicaly typed programing languege  that means you dont have to specify the data types it automaticaly detects the data type's by its syntax , python supports oops concepts which opens a lot more apportunities to do some next level stuffs  "
   ]
  },
  {
   "cell_type": "markdown",
   "metadata": {},
   "source": [
    "1. **User will input (3ages).Find the oldest one**"
   ]
  },
  {
   "cell_type": "code",
   "execution_count": 3,
   "metadata": {},
   "outputs": [
    {
     "name": "stdout",
     "output_type": "stream",
     "text": [
      "77  is the oldest age \n"
     ]
    }
   ],
   "source": [
    "# make the input for the three times \n",
    "a = int(input(\"Enter the age : \"))\n",
    "b = int(input(\"Enter the age : \"))\n",
    "c = int(input(\"Enter the age : \"))\n",
    "\n",
    "if a > b and a > c:\n",
    "    print(a ,\" is the oldest age \")\n",
    "if b > a and b > c:\n",
    "    print(b ,\" is the oldest age \")\n",
    "if c > b and c > a:\n",
    "    print(c ,\" is the oldest age \")\n",
    "    "
   ]
  },
  {
   "cell_type": "code",
   "execution_count": 6,
   "metadata": {},
   "outputs": [
    {
     "name": "stdout",
     "output_type": "stream",
     "text": [
      "the oldest age is : 66\n"
     ]
    }
   ],
   "source": [
    "age  = [int(input(\"enter the age :\")) for _ in range(3)]\n",
    "oldest_age =  max(age)\n",
    "print(\"the oldest age is :\",oldest_age)"
   ]
  },
  {
   "cell_type": "markdown",
   "metadata": {},
   "source": [
    "2. **Write a program that will convert celsius value to fahrenheit**"
   ]
  },
  {
   "cell_type": "code",
   "execution_count": 8,
   "metadata": {},
   "outputs": [
    {
     "name": "stdout",
     "output_type": "stream",
     "text": [
      "temp in fahrenhit : 124.16\n"
     ]
    }
   ],
   "source": [
    "# formula for celcius (num * 9/5 )+32 \n",
    "temp = float(input('Enter the temp in celcius :'))\n",
    "\n",
    "fahrenheit = (temp * 9/5 ) + 32\n",
    "\n",
    "print(\"temp in fahrenhit :\", fahrenheit)"
   ]
  },
  {
   "cell_type": "markdown",
   "metadata": {},
   "source": [
    "## 3. User will input (2numbers).Write a program to swap the numbers"
   ]
  },
  {
   "cell_type": "code",
   "execution_count": 5,
   "metadata": {},
   "outputs": [
    {
     "name": "stdout",
     "output_type": "stream",
     "text": [
      "44\n",
      "55\n"
     ]
    }
   ],
   "source": [
    "a = int(input('num 1'))\n",
    "b = int(input('num 2'))\n",
    "\n",
    "tem = a\n",
    "a = b\n",
    "b = tem\n",
    "print(a)\n",
    "print(b)"
   ]
  },
  {
   "cell_type": "markdown",
   "metadata": {},
   "source": [
    "## **4. Write a program that will give you the sum of 3 digits**"
   ]
  },
  {
   "cell_type": "code",
   "execution_count": 7,
   "metadata": {},
   "outputs": [
    {
     "name": "stdout",
     "output_type": "stream",
     "text": [
      "sum of three numbers are  6\n"
     ]
    }
   ],
   "source": [
    "# take three inputs \n",
    "a = int(input(\"Enter num1 \"))\n",
    "b = int(input(\"Enter num2 \"))\n",
    "c = int(input(\"Enter num3 \"))\n",
    "\n",
    "print(\"sum of three numbers are \",a + b + c )"
   ]
  },
  {
   "cell_type": "code",
   "execution_count": 8,
   "metadata": {},
   "outputs": [
    {
     "name": "stdout",
     "output_type": "stream",
     "text": [
      "6\n"
     ]
    }
   ],
   "source": [
    "# using loops \n",
    "sum = 0\n",
    "for i in range(3):\n",
    "    a = int(input(\"Enter number: \"))\n",
    "    sum = sum + a\n",
    "print(sum)\n",
    "     "
   ]
  },
  {
   "cell_type": "code",
   "execution_count": 19,
   "metadata": {},
   "outputs": [
    {
     "name": "stdout",
     "output_type": "stream",
     "text": [
      "100\n"
     ]
    }
   ],
   "source": [
    "# using while loop \n",
    "sum = 0\n",
    "num = 0\n",
    "while num < 3:\n",
    "    a = int(input(\"enter num :\"))\n",
    "    sum = sum + a\n",
    "    num += 1\n",
    "print(sum)"
   ]
  },
  {
   "cell_type": "markdown",
   "metadata": {},
   "source": [
    "#  **5. Write a program that will reverse a four digit number.Also it checks whether the reverse is true.**"
   ]
  },
  {
   "cell_type": "code",
   "execution_count": 63,
   "metadata": {},
   "outputs": [
    {
     "name": "stdout",
     "output_type": "stream",
     "text": [
      "2121\n",
      "digits are reversed: \n"
     ]
    }
   ],
   "source": [
    "# main aim : reverse the 4 digit numbers and return true if reversed \n",
    "num = int(input(\"Enter the 4 digit number \"))\n",
    "num = str(num)\n",
    "num_reversed = num[::-1]\n",
    "print(num_reversed)\n",
    "if num_reversed == num:\n",
    "    print('not reversed :')\n",
    "else:\n",
    "    print(\"digits are reversed: \")"
   ]
  },
  {
   "cell_type": "markdown",
   "metadata": {},
   "source": [
    "## **6. Write a program that will tell whether the number entered by the user is odd or even.**"
   ]
  },
  {
   "cell_type": "code",
   "execution_count": 66,
   "metadata": {},
   "outputs": [
    {
     "name": "stdout",
     "output_type": "stream",
     "text": [
      "the numbers is odd !\n"
     ]
    }
   ],
   "source": [
    "num = int(input(\" Enter a number\"))\n",
    "if num % 2 == 0 :\n",
    "    print(\"number is even !\")\n",
    "else:\n",
    "    print(\"the numbers is odd !\")"
   ]
  },
  {
   "cell_type": "markdown",
   "metadata": {},
   "source": [
    "##  **7. Write a program that will tell whether the given year is a leap year or not.**"
   ]
  },
  {
   "cell_type": "code",
   "execution_count": 70,
   "metadata": {},
   "outputs": [
    {
     "name": "stdout",
     "output_type": "stream",
     "text": [
      "2023 its not a leap year !\n"
     ]
    }
   ],
   "source": [
    "# conditions check if the year us divisble by 4 , if it is then check if the number is divisible by 100 , if it is then check for 400 \n",
    "''' To determine whether a year is a leap year or not, you can use the following formula:\n",
    "\n",
    "If the year is evenly divisible by 4, go to step 2. If not, it's not a leap year.\n",
    "\n",
    "If the year is divisible by 100, go to step 3. If not, it's a leap year.\n",
    "\n",
    "If the year is divisible by 400, it's a leap year. If not, it's not a leap year.\n",
    "\n",
    "So, in summary:\n",
    "\n",
    "If the year is divisible by 4 but not divisible by 100, it's a leap year (e.g., 2008, 2012).\n",
    "\n",
    "If the year is divisible by 100 but not divisible by 400, it's not a leap year (e.g., 1800, 1900).\n",
    "\n",
    "If the year is divisible by 400, it's a leap year (e.g., 1600, 2000).\n",
    "\n",
    "This rule ensures that most years are 365 days long, but it adds an extra day (February 29) to the calendar every 4 years, except in the case of years divisible by 100 but not by 400.\n",
    "\n",
    "'''\n",
    "\n",
    "year = int(input('Enter the Year :'))\n",
    "if (year%4 == 0 and year%100 !=0)  or year%400 ==0:\n",
    "    print(year,\"is a leap year !\")\n",
    "else:\n",
    "    print(year,\"its not a leap year !\")"
   ]
  },
  {
   "cell_type": "markdown",
   "metadata": {},
   "source": [
    "## **8. Write a program to find the euclidean distance between two coordinates**"
   ]
  },
  {
   "cell_type": "markdown",
   "metadata": {},
   "source": []
  },
  {
   "cell_type": "markdown",
   "metadata": {},
   "source": [
    "##  **9. Write a program that take a user inputr of three angles and will find out whether it can form a triangle or not**"
   ]
  },
  {
   "cell_type": "code",
   "execution_count": 7,
   "metadata": {},
   "outputs": [
    {
     "name": "stdout",
     "output_type": "stream",
     "text": [
      "this is an tringle :\n"
     ]
    }
   ],
   "source": [
    "#  takes three inputs \n",
    "angl1 = int(input(\"first angle !\"))\n",
    "angl2 = int(input(\"second angle !\"))\n",
    "angl3 = int(input(\"Three angle !\"))\n",
    "\n",
    "if angl1 > 0 and angl2>0 and angl3>0 and angl1 + angl2 + angl3 == 180 :\n",
    "    print(\"this is an tringle :\")\n",
    "else:\n",
    "    print(\"this is not a trianlge\")"
   ]
  },
  {
   "cell_type": "markdown",
   "metadata": {},
   "source": [
    "##  **10. Write a program that will take user input of cost price and selling price and determines whether its a loss or a profit**"
   ]
  },
  {
   "cell_type": "code",
   "execution_count": 15,
   "metadata": {},
   "outputs": [
    {
     "name": "stdout",
     "output_type": "stream",
     "text": [
      "you have profit of 57 dollars !\n"
     ]
    }
   ],
   "source": [
    "# takes to inputs \n",
    "# cost price \n",
    "cost_price =  int(input(\"enter the cost price :\"))\n",
    "\n",
    "#selling price \n",
    "selling_price = int(input(\"Enter the selling price :\"))\n",
    "\n",
    "if cost_price> selling_price:\n",
    "    loss = cost_price - selling_price\n",
    "    print(\"you have loss of\",loss, \"dollars !\")\n",
    "elif cost_price< selling_price:\n",
    "    profit = selling_price - cost_price\n",
    "    print(\"you have profit of\",profit, \"dollars !\")\n",
    "else:\n",
    "    print(\"there is no profit or loss \")"
   ]
  },
  {
   "cell_type": "markdown",
   "metadata": {},
   "source": [
    "## **11. Write a program to find the simple interest when the value of principle,rate of interest and time period is given.**"
   ]
  },
  {
   "cell_type": "code",
   "execution_count": 6,
   "metadata": {},
   "outputs": [
    {
     "data": {
      "text/plain": [
       "150.0"
      ]
     },
     "execution_count": 6,
     "metadata": {},
     "output_type": "execute_result"
    }
   ],
   "source": [
    "# SI = P x R x T \n",
    "# where  P =  princinple \n",
    "# R = rate of interest  \n",
    "# T = time of period\n",
    "def simple_interest():\n",
    "    p = int(input(\"Enter the principle amount :\")) # 20,000 $\n",
    "    r = int(input(\"Enter the Rate of interst :\")) # 5%\n",
    "    t = int(input(\"Enter the Time period :\")) # 10 years\n",
    "    \n",
    "    SI = (p*r/100)*t\n",
    "    return SI\n",
    "simple_interest()"
   ]
  },
  {
   "cell_type": "markdown",
   "metadata": {},
   "source": [
    "## **12. Write a program to find the volume of the cylinder. Also find the cost when ,when the cost of 1litre milk is 40Rs.**"
   ]
  },
  {
   "cell_type": "code",
   "execution_count": null,
   "metadata": {},
   "outputs": [],
   "source": [
    "# find the volume of cylinder\n",
    "# also find the cost when the cost of milk is 40 rs.\n"
   ]
  },
  {
   "cell_type": "markdown",
   "metadata": {},
   "source": [
    "## **24.Write a program to find the sum of first n numbers, where n will be provided by the user. Eg if the user provides n=10 the output should be 55.**"
   ]
  },
  {
   "cell_type": "code",
   "execution_count": 10,
   "metadata": {},
   "outputs": [
    {
     "data": {
      "text/plain": [
       "1540"
      ]
     },
     "execution_count": 10,
     "metadata": {},
     "output_type": "execute_result"
    }
   ],
   "source": [
    "# write a progra, to find the sum of first n numners \n",
    "# what we want to do 1.we have to run the loop till n , and every time we have to add the previous sum to upcoming num\n",
    "\n",
    "def sum_till_n(n):\n",
    "    sum = 0\n",
    "    for i in range(1,n+1):\n",
    "        sum = sum+i\n",
    "    return sum\n",
    "\n",
    "sum_till_n(55)"
   ]
  },
  {
   "cell_type": "markdown",
   "metadata": {},
   "source": [
    "## **25.Write a program that can multiply 2 numbers provided by the user without using the * operator**"
   ]
  },
  {
   "cell_type": "code",
   "execution_count": 17,
   "metadata": {},
   "outputs": [
    {
     "data": {
      "text/plain": [
       "15"
      ]
     },
     "execution_count": 17,
     "metadata": {},
     "output_type": "execute_result"
    }
   ],
   "source": [
    "# we have to perform muliplication without using maltiplecation \n",
    "# for that we can use addition  , all we have to do is just add the number (num1) till the other number (num2)\n",
    "\n",
    "# we can use for loop \n",
    "def multiple(num1 , num2):\n",
    "    # we have perform addition but for only one num we have to add the sam number num2 times\n",
    "    # sum = 0\n",
    "    for i in range(num2):\n",
    "        pro = num1+num1\n",
    "        pro  = pro + num1\n",
    "    return pro\n",
    "    \n",
    "multiple(5,7)"
   ]
  },
  {
   "cell_type": "code",
   "execution_count": null,
   "metadata": {},
   "outputs": [],
   "source": []
  }
 ],
 "metadata": {
  "kernelspec": {
   "display_name": "Python 3",
   "language": "python",
   "name": "python3"
  },
  "language_info": {
   "codemirror_mode": {
    "name": "ipython",
    "version": 3
   },
   "file_extension": ".py",
   "mimetype": "text/x-python",
   "name": "python",
   "nbconvert_exporter": "python",
   "pygments_lexer": "ipython3",
   "version": "3.12.0"
  }
 },
 "nbformat": 4,
 "nbformat_minor": 2
}
