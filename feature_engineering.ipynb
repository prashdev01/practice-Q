{
 "cells": [
  {
   "cell_type": "markdown",
   "metadata": {},
   "source": [
    "# Missing Values \n"
   ]
  },
  {
   "cell_type": "markdown",
   "metadata": {},
   "source": [
    "- Missing occured in dataset when some of information is not stored in dataset \n",
    "* ## **Missing Complataly at Random (MCR)** :\n",
    "  - there is no systematic reason for that Missing values .\n",
    "\n",
    "\n",
    "* ##  **Missing at random (MAR)** :\n",
    "   - the data is MAR the Missing values systematicaly related to the observed data.\n",
    "\n",
    "* ##  **Missing Data Not At random (MNR)** :\n",
    "  - it is a type of Missing data mechanism where the probability of Missing values, depend on the valuesof the Missing data itself. in other words if the data is MNAR, the Missingness is not random and is dependent on unmeasured factors that are associated with the Missing values."
   ]
  },
  {
   "cell_type": "markdown",
   "metadata": {},
   "source": []
  }
 ],
 "metadata": {
  "language_info": {
   "name": "python"
  },
  "orig_nbformat": 4
 },
 "nbformat": 4,
 "nbformat_minor": 2
}
