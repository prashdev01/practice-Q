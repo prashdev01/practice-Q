{
 "cells": [
  {
   "cell_type": "code",
   "execution_count": 13,
   "metadata": {},
   "outputs": [
    {
     "name": "stdout",
     "output_type": "stream",
     "text": [
      " the price of banana is  1.25\n"
     ]
    }
   ],
   "source": [
    "# Q1. Create a dictionary called fruits with the following key-value pairs:\n",
    "\n",
    "# \"apple\": 0.75\n",
    "\n",
    "# \"banana\": 1.25\n",
    "\n",
    "# \"orange\": 0.90\n",
    "\n",
    "# Then, print out the price of a banana.\n",
    "\n",
    "\n",
    "dict1 = {\n",
    "    \"apple\": 0.75 ,\"banana\": 1.25, \"orange\": 0.90\n",
    "}\n",
    "print(\" the price of banana is \" ,format(dict1[\"banana\"]) )"
   ]
  },
  {
   "cell_type": "code",
   "execution_count": 23,
   "metadata": {},
   "outputs": [
    {
     "name": "stdout",
     "output_type": "stream",
     "text": [
      "the age of charlie  is  35\n"
     ]
    }
   ],
   "source": [
    "# Q2. Create an empty dictionary called ages. Add the following key-value pairs to the dictionary:\n",
    "\n",
    "# \"Alice\": 30\n",
    "\n",
    "# \"Bob\": 25\n",
    "\n",
    "# \"Charlie\": 35\n",
    "\n",
    "# Then, print out the age of Charlie.\n",
    "\n",
    "ages ={}\n",
    "ages.update({\"Alice\": 30,\"Bob\": 25,\"Charlie\": 35})\n",
    "\n",
    "print(f\"the age of charlie  is \",ages['Charlie'])\n"
   ]
  },
  {
   "cell_type": "code",
   "execution_count": null,
   "metadata": {},
   "outputs": [],
   "source": [
    "# Q3. Write a function called word_count(text) that takes a string as input and returns a dictionary where\n",
    "# each key is a word in the text and its value is the number of times that word appears in the text. For\n",
    "# example, word_count(\"hello world hello\") should return {\"hello\": 2, \"world\": 1}.\n",
    "def word_count(text):\n",
    "    dict1\n",
    "    for i in text:\n",
    "        keys=dict1.keys=i.split(\" \")\n",
    "        dict1.values=i.count()\n",
    "    return dict1\n"
   ]
  }
 ],
 "metadata": {
  "kernelspec": {
   "display_name": "Python 3",
   "language": "python",
   "name": "python3"
  },
  "language_info": {
   "codemirror_mode": {
    "name": "ipython",
    "version": 3
   },
   "file_extension": ".py",
   "mimetype": "text/x-python",
   "name": "python",
   "nbconvert_exporter": "python",
   "pygments_lexer": "ipython3",
   "version": "3.11.3"
  },
  "orig_nbformat": 4
 },
 "nbformat": 4,
 "nbformat_minor": 2
}
