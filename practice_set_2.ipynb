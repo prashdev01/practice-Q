{
 "cells": [
  {
   "cell_type": "markdown",
   "metadata": {},
   "source": [
    "# **Q1. Create a list in python using the followings: 2,3,4,5,6,7 with variable ‘a’ Add ‘mango to the above list Also add banana, grapes & orange in the list insert apple in the 5th position of a variable ‘a’ Remove last item from the list**"
   ]
  },
  {
   "cell_type": "code",
   "execution_count": 21,
   "metadata": {},
   "outputs": [
    {
     "name": "stdout",
     "output_type": "stream",
     "text": [
      "[2, 3, 4, 5, 'apple', 6, 7, 'mango', 'banana', 'grapes']\n"
     ]
    }
   ],
   "source": [
    "a = [2,3,4,5,6,7]\n",
    "\n",
    "lst=['mango','banana','grapes','orange'] #items to add in list\n",
    "\n",
    "for i in lst: # inserting given item in a list \n",
    "    a.append(i)\n",
    "\n",
    "a.insert(4,'apple') # inserting the 'apple' on 5th possition\n",
    "\n",
    "a.pop(-1) # removes last object from the list\n",
    "\n",
    "print(a)"
   ]
  },
  {
   "cell_type": "code",
   "execution_count": 23,
   "metadata": {},
   "outputs": [
    {
     "name": "stdout",
     "output_type": "stream",
     "text": [
      "[2, 3, 4]\n"
     ]
    }
   ],
   "source": [
    "# Q2.\n",
    "L = [1,2,3,4,5,6,7]\n",
    "# Using the above list slice from 1:4\n",
    "L_new=L[1:4]\n",
    "print(L_new)"
   ]
  },
  {
   "cell_type": "markdown",
   "metadata": {},
   "source": [
    "# **Q3. Reverse the order of given string L = [4,5,6,8,3] Without using reverse() function.**"
   ]
  },
  {
   "cell_type": "code",
   "execution_count": 38,
   "metadata": {},
   "outputs": [
    {
     "name": "stdout",
     "output_type": "stream",
     "text": [
      "[3, 8, 6, 5, 4]\n"
     ]
    }
   ],
   "source": [
    "L = [4,5,6,8,3]\n",
    "\n",
    "L=L[::-1] # list has been reversed\n",
    "\n",
    "print(L)"
   ]
  },
  {
   "cell_type": "markdown",
   "metadata": {},
   "source": [
    "# **Q4. Use list comprehension to square the given list L=[2,4,7,3,6,8]**"
   ]
  },
  {
   "cell_type": "code",
   "execution_count": 40,
   "metadata": {},
   "outputs": [
    {
     "data": {
      "text/plain": [
       "[4, 16, 49, 9, 36, 64]"
      ]
     },
     "execution_count": 40,
     "metadata": {},
     "output_type": "execute_result"
    }
   ],
   "source": [
    "L=[2,4,7,3,6,8]\n",
    "\n",
    "[i**2 for i in L] "
   ]
  },
  {
   "cell_type": "markdown",
   "metadata": {},
   "source": [
    "# **Q5. Create a function that takes in a tuple of integers and returns the sum of the integers. Test the function with a tuple of your choice.**"
   ]
  },
  {
   "cell_type": "code",
   "execution_count": 46,
   "metadata": {},
   "outputs": [
    {
     "data": {
      "text/plain": [
       "30"
      ]
     },
     "execution_count": 46,
     "metadata": {},
     "output_type": "execute_result"
    }
   ],
   "source": [
    "def sum_of_int(a):\n",
    "    return sum(a) # sum function sum of all the elements in the tuple\n",
    "    \n",
    "L=(2,4,7,3,6,8)\n",
    "sum_of_int(L)"
   ]
  },
  {
   "cell_type": "markdown",
   "metadata": {},
   "source": [
    "# **Q6. Create two sets of your favourite fruits, and use the union() method to combine them into a single set. Print the resulting set to the console.**"
   ]
  },
  {
   "cell_type": "code",
   "execution_count": 56,
   "metadata": {},
   "outputs": [
    {
     "name": "stdout",
     "output_type": "stream",
     "text": [
      "The union of two sets is {'apple', 'kiwi', 'coconut', 'pinapple', 'orange', 'banana'}\n"
     ]
    }
   ],
   "source": [
    "set1 = {'apple','banana','orange'}\n",
    "set2 = {'kiwi','pinapple','coconut'}\n",
    "uni_set =set1.union(set2)\n",
    "print(\"The union of two sets is {}\".format(uni_set))"
   ]
  },
  {
   "cell_type": "markdown",
   "metadata": {},
   "source": [
    "# **Q7. Create a set of random words, and use the add() method to add a new word to the set. Print the resulting set to the console.**"
   ]
  },
  {
   "cell_type": "code",
   "execution_count": null,
   "metadata": {},
   "outputs": [],
   "source": []
  }
 ],
 "metadata": {
  "kernelspec": {
   "display_name": "Python 3",
   "language": "python",
   "name": "python3"
  },
  "language_info": {
   "codemirror_mode": {
    "name": "ipython",
    "version": 3
   },
   "file_extension": ".py",
   "mimetype": "text/x-python",
   "name": "python",
   "nbconvert_exporter": "python",
   "pygments_lexer": "ipython3",
   "version": "3.11.3"
  },
  "orig_nbformat": 4
 },
 "nbformat": 4,
 "nbformat_minor": 2
}
