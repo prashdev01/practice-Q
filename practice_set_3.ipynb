{
 "cells": [
  {
   "cell_type": "code",
   "execution_count": 14,
   "metadata": {},
   "outputs": [
    {
     "data": {
      "text/plain": [
       "' Q1. Create a dictionary called fruits with the following key-value pairs:\\n\"apple\": 0.75\\n\"banana\": 1.25\\n\"orange\": 0.90\\nThen, print out the price of a banana.\\nQ2. Create an empty dictionary called ages. Add the following key-value pairs to the dictionary:\\n\"Alice\": 30\\n\"Bob\": 25\\n\"Charlie\": 35\\nThen, print out the age of Charlie.\\nQ3. Write a function called word_count(text) that takes a string as input and returns a dictionary where\\neach key is a word in the text and its value is the number of times that word appears in the text. For\\nexample, word_count(\"hello world hello\") should return {\"hello\": 2, \"world\": 1}.\\nQ4. Create a dictionary called phone_book with the following key-value pairs:\\n\"Alice\": \"555-1234\"\\n\"Bob\": \"555-5678\"\\n\"Charlie\": \"555-9012\"\\nThen, prompt the user to enter a name and print out the corresponding phone number. If the name is not\\nin the phone book, print out a message saying that the name was not found.\\nQ5. Write a program that prompts the user to enter a number between 1 and 10. If the number is less than\\n5, print out \"Too low!\", otherwise print out \"Too high!\".\\nQ6. Write a program that prompts the user to enter a password. If the password is \"password123\", print\\nout \"Access granted\", otherwise print out \"Access denied\".\\nQ7. Write a program that prompts the user to enter a positive integer. Then, use a loop to print out all the\\nodd numbers from 1 to that integer.\\nQ8. Write a program that generates a random number between 1 and 100 and then prompts the user to\\nguess the number. If the user\\'s guess is too low, print out \"Too low!\", if the guess is too high, print out \"Too\\nhigh!\", and if the guess is correct, print out \"You win!\".\\nQ9. Write a program that generates a random number between 1 and 10 and then prompts the user to\\nguess the number. The user has three attempts to guess the number. If the user guesses correctly within\\nthree attempts, print out \"You win!\", otherwise print out \"You lose!\".\\nQ10. Write a program that prompts the user to enter their age and then prints out whether they are a child\\n(age 0-12), a teenager (age 13-19), an adult (age 20-59), or a senior (age 60)'"
      ]
     },
     "execution_count": 14,
     "metadata": {},
     "output_type": "execute_result"
    }
   ],
   "source": [
    "''' \n",
    "Q3. Write a function called word_count(text) that takes a string as input and returns a dictionary where\n",
    "each key is a word in the text and its value is the number of times that word appears in the text. For\n",
    "example, word_count(\"hello world hello\") should return {\"hello\": 2, \"world\": 1}.\n",
    "Q4. Create a dictionary called phone_book with the following key-value pairs:\n",
    "\"Alice\": \"555-1234\"\n",
    "\"Bob\": \"555-5678\"\n",
    "\"Charlie\": \"555-9012\"\n",
    "Then, prompt the user to enter a name and print out the corresponding phone number. If the name is not\n",
    "in the phone book, print out a message saying that the name was not found.\n",
    "Q5. Write a program that prompts the user to enter a number between 1 and 10. If the number is less than\n",
    "5, print out \"Too low!\", otherwise print out \"Too high!\".\n",
    "Q6. Write a program that prompts the user to enter a password. If the password is \"password123\", print\n",
    "out \"Access granted\", otherwise print out \"Access denied\".\n",
    "Q7. Write a program that prompts the user to enter a positive integer. Then, use a loop to print out all the\n",
    "odd numbers from 1 to that integer.\n",
    "Q8. Write a program that generates a random number between 1 and 100 and then prompts the user to\n",
    "guess the number. If the user's guess is too low, print out \"Too low!\", if the guess is too high, print out \"Too\n",
    "high!\", and if the guess is correct, print out \"You win!\".\n",
    "Q9. Write a program that generates a random number between 1 and 10 and then prompts the user to\n",
    "guess the number. The user has three attempts to guess the number. If the user guesses correctly within\n",
    "three attempts, print out \"You win!\", otherwise print out \"You lose!\".\n",
    "Q10. Write a program that prompts the user to enter their age and then prints out whether they are a child\n",
    "(age 0-12), a teenager (age 13-19), an adult (age 20-59), or a senior (age 60)'''"
   ]
  },
  {
   "cell_type": "markdown",
   "metadata": {},
   "source": [
    "# **Q1. Create a dictionary called fruits with the following key-value pairs:**\n",
    "\n",
    "```\n",
    "\"apple\": 0.75\n",
    "\"banana\": 1.25\n",
    "\"orange\": 0.90\n",
    "```\n",
    "**Then, print out the price of a banana.**"
   ]
  },
  {
   "cell_type": "code",
   "execution_count": 15,
   "metadata": {},
   "outputs": [],
   "source": [
    "fruits = {\n",
    "\"apple\": 0.75,\n",
    "\"banana\": 1.25,\n",
    "\"orange\": 0.90\n",
    "}"
   ]
  },
  {
   "cell_type": "markdown",
   "metadata": {},
   "source": [
    "# **Q2. Create an empty dictionary called ages. Add the following key-value pairs to the dictionary:**\n",
    "``````\n",
    "\"Alice\": 30\n",
    "\"Bob\": 25\n",
    "\"Charlie\": 35\n",
    "``````\n",
    "**Then, print out the age of Charlie.**"
   ]
  },
  {
   "cell_type": "code",
   "execution_count": 21,
   "metadata": {},
   "outputs": [
    {
     "data": {
      "text/plain": [
       "{'prashant': 21,\n",
       " 'Aditya': 19,\n",
       " 'harsh': 19,\n",
       " 'Alice': 30,\n",
       " 'Bob': 25,\n",
       " 'Charlie': 35}"
      ]
     },
     "execution_count": 21,
     "metadata": {},
     "output_type": "execute_result"
    }
   ],
   "source": [
    "ages = {}\n",
    "\n",
    "# there are two  methods to add the key values for in dict \n",
    "# 1. subscipt notation 2. update()\n",
    "\n",
    "ages['prashant'] = 21\n",
    "ages['Aditya'] = 19\n",
    "ages['harsh'] = 19\n",
    "\n",
    "ages.update({\"Alice\": 30, # using the update function\n",
    "\"Bob\": 25,\n",
    "\"Charlie\": 35})\n",
    "\n",
    "\n",
    "ages"
   ]
  },
  {
   "cell_type": "markdown",
   "metadata": {},
   "source": [
    "# **Q3. Write a function called word_count(text) that takes a string as input and returns a dictionary where each key is a word in the text and its value is the number of times that word appears in the text. For example, word_count(\"hello world hello\") should return {\"hello\": 2, \"world\": 1}.**"
   ]
  },
  {
   "cell_type": "code",
   "execution_count": 2,
   "metadata": {},
   "outputs": [
    {
     "name": "stdout",
     "output_type": "stream",
     "text": [
      "['T']\n",
      "['h']\n",
      "['e']\n",
      "['', '']\n",
      "['c']\n",
      "['a']\n",
      "['t']\n",
      "['', '']\n",
      "['s']\n",
      "['a']\n",
      "['t']\n",
      "['', '']\n",
      "['o']\n",
      "['n']\n",
      "['', '']\n",
      "['t']\n",
      "['h']\n",
      "['e']\n",
      "['', '']\n",
      "['m']\n",
      "['a']\n",
      "['t']\n",
      "['', '']\n",
      "['a']\n",
      "['n']\n",
      "['d']\n",
      "['', '']\n",
      "['t']\n",
      "['h']\n",
      "['e']\n",
      "['', '']\n",
      "['c']\n",
      "['a']\n",
      "['t']\n",
      "['', '']\n",
      "['s']\n",
      "['a']\n",
      "['t']\n",
      "['', '']\n",
      "['o']\n",
      "['n']\n",
      "['', '']\n",
      "['t']\n",
      "['h']\n",
      "['e']\n",
      "['', '']\n",
      "['m']\n",
      "['a']\n",
      "['t']\n",
      "['', '']\n",
      "['a']\n",
      "['n']\n",
      "['d']\n",
      "['', '']\n",
      "['t']\n",
      "['h']\n",
      "['e']\n",
      "['', '']\n",
      "['c']\n",
      "['a']\n",
      "['t']\n",
      "['', '']\n",
      "['s']\n",
      "['a']\n",
      "['t']\n",
      "['', '']\n",
      "['o']\n",
      "['n']\n",
      "['', '']\n",
      "['t']\n",
      "['h']\n",
      "['e']\n",
      "['', '']\n",
      "['m']\n",
      "['a']\n",
      "['t']\n",
      "['.']\n"
     ]
    }
   ],
   "source": [
    "string = \"The cat sat on the mat and the cat sat on the mat and the cat sat on the mat.\"\n",
    "\n",
    "def word_count(text):\n",
    "    for i in string:\n",
    "        print(i.split(' '))\n",
    "        \n",
    "word_count(string)"
   ]
  },
  {
   "cell_type": "markdown",
   "metadata": {},
   "source": []
  }
 ],
 "metadata": {
  "kernelspec": {
   "display_name": "Python 3",
   "language": "python",
   "name": "python3"
  },
  "language_info": {
   "codemirror_mode": {
    "name": "ipython",
    "version": 3
   },
   "file_extension": ".py",
   "mimetype": "text/x-python",
   "name": "python",
   "nbconvert_exporter": "python",
   "pygments_lexer": "ipython3",
   "version": "3.11.3"
  },
  "orig_nbformat": 4
 },
 "nbformat": 4,
 "nbformat_minor": 2
}
