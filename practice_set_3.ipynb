{
 "cells": [
  {
   "cell_type": "code",
   "execution_count": 22,
   "metadata": {},
   "outputs": [
    {
     "data": {
      "text/plain": [
       "' \\nQ3. Write a function called word_count(text) that takes a string as input and returns a dictionary where\\neach key is a word in the text and its value is the number of times that word appears in the text. For\\nexample, word_count(\"hello world hello\") should return {\"hello\": 2, \"world\": 1}.\\nQ4. Create a dictionary called phone_book with the following key-value pairs:\\n\"Alice\": \"555-1234\"\\n\"Bob\": \"555-5678\"\\n\"Charlie\": \"555-9012\"\\nThen, prompt the user to enter a name and print out the corresponding phone number. If the name is not\\nin the phone book, print out a message saying that the name was not found.\\nQ5. Write a program that prompts the user to enter a number between 1 and 10. If the number is less than\\n5, print out \"Too low!\", otherwise print out \"Too high!\".\\nQ6. Write a program that prompts the user to enter a password. If the password is \"password123\", print\\nout \"Access granted\", otherwise print out \"Access denied\".\\nQ7. Write a program that prompts the user to enter a positive integer. Then, use a loop to print out all the\\nodd numbers from 1 to that integer.\\nQ8. Write a program that generates a random number between 1 and 100 and then prompts the user to\\nguess the number. If the user\\'s guess is too low, print out \"Too low!\", if the guess is too high, print out \"Too\\nhigh!\", and if the guess is correct, print out \"You win!\".\\nQ9. Write a program that generates a random number between 1 and 10 and then prompts the user to\\nguess the number. The user has three attempts to guess the number. If the user guesses correctly within\\nthree attempts, print out \"You win!\", otherwise print out \"You lose!\".\\nQ10. Write a program that prompts the user to enter their age and then prints out whether they are a child\\n(age 0-12), a teenager (age 13-19), an adult (age 20-59), or a senior (age 60)'"
      ]
     },
     "execution_count": 22,
     "metadata": {},
     "output_type": "execute_result"
    }
   ],
   "source": [
    "''' \n",
    "\n",
    "\n",
    "\n",
    "\n",
    "\n",
    "Q9. Write a program that generates a random number between 1 and 10 and then prompts the user to\n",
    "guess the number. The user has three attempts to guess the number. If the user guesses correctly within\n",
    "three attempts, print out \"You win!\", otherwise print out \"You lose!\".\n",
    "Q10. Write a program that prompts the user to enter their age and then prints out whether they are a child\n",
    "(age 0-12), a teenager (age 13-19), an adult (age 20-59), or a senior (age 60)'''"
   ]
  },
  {
   "cell_type": "markdown",
   "metadata": {},
   "source": [
    "# **Q1. Create a dictionary called fruits with the following key-value pairs:**\n",
    "\n",
    "```\n",
    "\"apple\": 0.75\n",
    "\"banana\": 1.25\n",
    "\"orange\": 0.90\n",
    "```\n",
    "**Then, print out the price of a banana.**"
   ]
  },
  {
   "cell_type": "code",
   "execution_count": 23,
   "metadata": {},
   "outputs": [],
   "source": [
    "fruits = {\n",
    "\"apple\": 0.75,\n",
    "\"banana\": 1.25,\n",
    "\"orange\": 0.90\n",
    "}"
   ]
  },
  {
   "cell_type": "markdown",
   "metadata": {},
   "source": [
    "# **Q2. Create an empty dictionary called ages. Add the following key-value pairs to the dictionary:**\n",
    "``````\n",
    "\"Alice\": 30\n",
    "\"Bob\": 25\n",
    "\"Charlie\": 35\n",
    "``````\n",
    "**Then, print out the age of Charlie.**"
   ]
  },
  {
   "cell_type": "code",
   "execution_count": 24,
   "metadata": {},
   "outputs": [
    {
     "data": {
      "text/plain": [
       "{'prashant': 21,\n",
       " 'Aditya': 19,\n",
       " 'harsh': 19,\n",
       " 'Alice': 30,\n",
       " 'Bob': 25,\n",
       " 'Charlie': 35}"
      ]
     },
     "execution_count": 24,
     "metadata": {},
     "output_type": "execute_result"
    }
   ],
   "source": [
    "ages = {}\n",
    "\n",
    "# there are two  methods to add the key values for in dict \n",
    "# 1. subscipt notation 2. update()\n",
    "\n",
    "ages['prashant'] = 21\n",
    "ages['Aditya'] = 19\n",
    "ages['harsh'] = 19\n",
    "\n",
    "ages.update({\"Alice\": 30, # using the update function\n",
    "\"Bob\": 25,\n",
    "\"Charlie\": 35})\n",
    "\n",
    "\n",
    "ages"
   ]
  },
  {
   "cell_type": "markdown",
   "metadata": {},
   "source": [
    "# **Q3. Write a function called word_count(text) that takes a string as input and returns a dictionary where each key is a word in the text and its value is the number of times that word appears in the text. For example, word_count(\"hello world hello\") should return {\"hello\": 2, \"world\": 1}.**"
   ]
  },
  {
   "cell_type": "code",
   "execution_count": 8,
   "metadata": {},
   "outputs": [
    {
     "data": {
      "text/plain": [
       "{'The': 2,\n",
       " 'cat': 3,\n",
       " 'sat': 3,\n",
       " 'on': 3,\n",
       " 'the': 10,\n",
       " 'mat': 3,\n",
       " 'and': 4,\n",
       " 'dog': 3,\n",
       " 'chased': 3,\n",
       " 'ball': 3,\n",
       " 'again.': 1}"
      ]
     },
     "execution_count": 8,
     "metadata": {},
     "output_type": "execute_result"
    }
   ],
   "source": [
    "def word_counts(text):\n",
    "    ''' Counts the numbers of repetating words in strings\n",
    "    Args: \n",
    "        takes a string to check \n",
    "    Returns :\n",
    "        A dictonary of the words and their caunts\n",
    "    '''\n",
    "    words = {}\n",
    "    repetating_words = 0\n",
    "    for word in text.split(' '):\n",
    "        if word in words:\n",
    "            words[word] += 1\n",
    "        else:\n",
    "            words[word] = 1\n",
    "            \n",
    "    \n",
    "    return words \n",
    "string = \"The cat sat on the mat and the cat sat on the mat and the cat sat on the mat The dog chased the ball and the ball chased the dog and the dog chased the ball again.\"\n",
    "word_counts(string)"
   ]
  },
  {
   "cell_type": "markdown",
   "metadata": {},
   "source": [
    "# **Q4. Create a dictionary called phone_book with the following key-value pairs:**\n",
    "```\n",
    "\"Alice\": \"555-1234\"\n",
    "\"Bob\": \"555-5678\"\n",
    "\"Charlie\": \"555-9012\"\n",
    "```\n",
    "# **Then, prompt the user to enter a name and print out the corresponding phone number. If the name is not in the phone book, print out a message saying that the name was not found.**"
   ]
  },
  {
   "cell_type": "code",
   "execution_count": 11,
   "metadata": {},
   "outputs": [
    {
     "name": "stdout",
     "output_type": "stream",
     "text": [
      " NO such name found in the Dictonary\n"
     ]
    }
   ],
   "source": [
    "phone_book = {\n",
    "    \"Alice\": \"555-1234\",\n",
    "    \"Bob\": \"555-5678\",\n",
    "    \"Charlie\": \"555-9012\"\n",
    "}\n",
    "\n",
    "def phonebook(name):\n",
    "    '''\n",
    "    The phonebook is used to  find the number of a people :\n",
    "    Args : \n",
    "        takes the input from the user and find their nuumber \n",
    "    \n",
    "    Returns:\n",
    "        return the phone number if present the then it will show you phone number \n",
    "    '''\n",
    "    phone_book = {\n",
    "    \"Alice\": \"555-1234\",\n",
    "    \"Bob\": \"555-5678\",\n",
    "    \"Charlie\": \"555-9012\"\n",
    "    }\n",
    "\n",
    "    if name in phone_book.keys():\n",
    "        print(phone_book.get(name))\n",
    "    \n",
    "    else:\n",
    "        print(\" NO such name found in the Dictonary\")\n",
    "        \n",
    "  \n",
    "\n",
    "\n",
    "\n",
    "name = input(\"Enter name Here\")     \n",
    "phonebook(name)\n",
    "    "
   ]
  },
  {
   "cell_type": "markdown",
   "metadata": {},
   "source": [
    "# **Q5. Write a program that prompts the user to enter a number between 1 and 10. If the number is less than 5, print out \"Too low!\", otherwise print out \"Too high!\".**"
   ]
  },
  {
   "cell_type": "code",
   "execution_count": 12,
   "metadata": {},
   "outputs": [
    {
     "name": "stdout",
     "output_type": "stream",
     "text": [
      "Too High!\n"
     ]
    }
   ],
   "source": [
    "numbers = int(input(\" Enter number between 1 to 10 \"))\n",
    "\n",
    "if numbers < 5 :\n",
    "    print(\"Too low!\")\n",
    "else:\n",
    "    print(\"Too High!\")"
   ]
  },
  {
   "cell_type": "markdown",
   "metadata": {},
   "source": [
    "# **Q6. Write a program that prompts the user to enter a password. If the password is \"password123\", print out \"Access granted\", otherwise print out \"Access denied\".**"
   ]
  },
  {
   "cell_type": "code",
   "execution_count": 13,
   "metadata": {},
   "outputs": [
    {
     "name": "stdout",
     "output_type": "stream",
     "text": [
      "Access granted\n"
     ]
    }
   ],
   "source": [
    "password = input(\" Enter Your Password \")\n",
    "if password == \"password123\":\n",
    "    print('Access granted')\n",
    "else:\n",
    "    print(\"Access denied\")"
   ]
  },
  {
   "cell_type": "markdown",
   "metadata": {},
   "source": [
    "# **Q7. Write a program that prompts the user to enter a positive integer. Then, use a loop to print out all the odd numbers from 1 to that integer.**"
   ]
  },
  {
   "cell_type": "code",
   "execution_count": 22,
   "metadata": {},
   "outputs": [
    {
     "name": "stdout",
     "output_type": "stream",
     "text": [
      "Plz Enter possitive integer\n"
     ]
    }
   ],
   "source": [
    "num = int(input(\"Enter any possitive integer\"))\n",
    "\n",
    "if num > 0:\n",
    "    for i in range(1,num):\n",
    "            if i%2== 0:\n",
    "                pass\n",
    "            else:\n",
    "                print(i)\n",
    "else:\n",
    "    print(\"Plz Enter possitive integer\")"
   ]
  },
  {
   "cell_type": "markdown",
   "metadata": {},
   "source": [
    "# **Q8. Write a program that generates a random number between 1 and 100 and then prompts the user to guess the number. If the user's guess is too low, print out \"Too low!\", if the guess is too high, print out \"Too high!\", and if the guess is correct, print out \"You win!\".**"
   ]
  },
  {
   "cell_type": "code",
   "execution_count": 54,
   "metadata": {},
   "outputs": [
    {
     "name": "stdout",
     "output_type": "stream",
     "text": [
      "Too high!\n",
      "86\n"
     ]
    }
   ],
   "source": [
    "import numpy as np\n",
    "\n",
    "num  = np.random.randint(1,100)\n",
    "\n",
    "guess_num = int(input(\"Guess the Number\"))\n",
    "\n",
    "\n",
    "    \n",
    "if num==guess_num:\n",
    "    print(\"You Win!\")\n",
    "elif num>(guess_num+10):\n",
    "    print(\"Too high!\")\n",
    "    print(num)\n",
    "elif num>(guess_num-10):\n",
    "    print(\"Too low!\")\n",
    "    print(num)\n",
    "else:\n",
    "    print(\"try Again\")\n",
    "    print(num)\n",
    "        \n",
    "    \n",
    "    \n",
    "    "
   ]
  },
  {
   "cell_type": "code",
   "execution_count": null,
   "metadata": {},
   "outputs": [],
   "source": []
  },
  {
   "cell_type": "code",
   "execution_count": null,
   "metadata": {},
   "outputs": [],
   "source": []
  }
 ],
 "metadata": {
  "kernelspec": {
   "display_name": "Python 3",
   "language": "python",
   "name": "python3"
  },
  "language_info": {
   "codemirror_mode": {
    "name": "ipython",
    "version": 3
   },
   "file_extension": ".py",
   "mimetype": "text/x-python",
   "name": "python",
   "nbconvert_exporter": "python",
   "pygments_lexer": "ipython3",
   "version": "3.11.3"
  },
  "orig_nbformat": 4
 },
 "nbformat": 4,
 "nbformat_minor": 2
}
