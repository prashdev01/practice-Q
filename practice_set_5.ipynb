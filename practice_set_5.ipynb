{
 "cells": [
  {
   "cell_type": "code",
   "execution_count": 43,
   "metadata": {},
   "outputs": [
    {
     "data": {
      "text/plain": [
       "'\\n\\n\\n\\n\\nQ5. How can you use Python to calculate the average of a specific column in a CSV file?\\nQ6. Write a Python program to read a JSON file and print out the value of a specified key.\\nQ7. Can you provide a Python code snippet to write a list of strings into a text file where each string is\\nwritten on a new line?\\nQ8. Can you provide a Python code to read a binary file and display the data in hexadecimal format.\\nQ9. Can you write a Python code to read a Comma-Separated Values (CSV) file, apply a specific condition\\nto each row, and create a new CSV file that contains only the rows that satisfy the condition? For example,\\nif the CSV file contains information about products and their prices, you may want to create a new CSV\\nfile that only includes the products that are within a certain price range. The program should be able to\\nread the CSV file, compare the values in each row to the specified condition, and write the rows that meet\\nthe criteria to a new CSV file.\\nQ10. Write a Python program to read a text file, count the frequency of each word, and write the results to\\na new text file.\\n'"
      ]
     },
     "execution_count": 43,
     "metadata": {},
     "output_type": "execute_result"
    }
   ],
   "source": [
    "'''\n",
    "\n",
    "\n",
    "\n",
    "\n",
    "\n",
    "\n",
    "\n",
    "\n",
    "Q9. Can you write a Python code to read a Comma-Separated Values (CSV) file, apply a specific condition\n",
    "to each row, and create a new CSV file that contains only the rows that satisfy the condition? For example,\n",
    "if the CSV file contains information about products and their prices, you may want to create a new CSV\n",
    "file that only includes the products that are within a certain price range. The program should be able to\n",
    "read the CSV file, compare the values in each row to the specified condition, and write the rows that meet\n",
    "the criteria to a new CSV file.\n",
    "Q10. Write a Python program to read a text file, count the frequency of each word, and write the results to\n",
    "a new text file.\n",
    "'''"
   ]
  },
  {
   "cell_type": "markdown",
   "metadata": {},
   "source": [
    "## **Q1. Can you create a Python program that reads a text file and counts the number of words contained within it? The program should be designed to read the file and break it down into individual words, using spaces, punctuation marks, and other delimiters to separate the words. It should then count the number of words found in the file and display this count as output. The program should be flexible enough to work with different text files and should be able to handle a variety of formatting and punctuation styles.**"
   ]
  },
  {
   "cell_type": "code",
   "execution_count": 44,
   "metadata": {},
   "outputs": [
    {
     "name": "stdout",
     "output_type": "stream",
     "text": [
      "the number of words in file is : 17\n"
     ]
    }
   ],
   "source": [
    "def word_count_from_from(filename,delimiters):\n",
    "    \n",
    "    ''' Count the number of words in text file \n",
    "    Args:\n",
    "        give a text filename that you want to check\n",
    "    Return:\n",
    "        The number of word in text file: \n",
    "    '''\n",
    "    with open(filename,'r') as file:\n",
    "        text = file.read()\n",
    "        \n",
    "    words = text.split()\n",
    "    for delimiter in delimiters:\n",
    "        words = [word for word in words if delimiter not in word]\n",
    "        \n",
    "        return len(words)\n",
    "\n",
    "\n",
    "if __name__ == '__main__':\n",
    "    filename = input(\"Enter the name of the text file: \")\n",
    "    delimiters  = [\" /.-,!?\"]\n",
    "    number_of_word = word_count_from_from(filename,delimiters)\n",
    "    print('the number of words in file is :',number_of_word)    "
   ]
  },
  {
   "cell_type": "markdown",
   "metadata": {},
   "source": [
    "## **Q2. Could you help me create a Python program that can find and display the longest word in a text file? The program should be able to read any text file and separate its contents into individual words, taking into account various delimiters like spaces, punctuation marks, and other characters. Then, it should compare the length of each word and determine which one is the longest, and finally, print that word as output. The program should be versatile enough to work with various text files and be able to handle different formatting styles and punctuation.**"
   ]
  },
  {
   "cell_type": "code",
   "execution_count": 45,
   "metadata": {},
   "outputs": [
    {
     "name": "stdout",
     "output_type": "stream",
     "text": [
      "the number of words in file is : (17, 'and largest word is ', 'would-like')\n"
     ]
    }
   ],
   "source": [
    "def word_count_from_from(filename,delimiters):\n",
    "    \n",
    "    ''' Count the number of words in text file \n",
    "    Args:\n",
    "        give a text filename that you want to check\n",
    "    Return:\n",
    "        The number of word in text file: \n",
    "        And the  longest word in the file\n",
    "    '''\n",
    "    with open(filename,'r') as file:\n",
    "        text = file.read()\n",
    "        \n",
    "    words = text.split()\n",
    "    for delimiter in delimiters:\n",
    "        words = [word for word in words if delimiter not in word]\n",
    "        \n",
    "    max_length = 0\n",
    "    largest_word = ''\n",
    "    for word in words:\n",
    "        length = len(word)\n",
    "        if length> max_length:\n",
    "            max_length = length\n",
    "            largest_word = word \n",
    "        \n",
    "    return len(words)  , 'and largest word is ' , largest_word \n",
    "\n",
    "\n",
    "if __name__ == '__main__':\n",
    "    filename = input(\"Enter the name of the text file: \")\n",
    "    delimiters  = [\" /.-,!?\"]\n",
    "    number_of_word = word_count_from_from(filename,delimiters)\n",
    "    print('the number of words in file is :',number_of_word)    "
   ]
  },
  {
   "cell_type": "markdown",
   "metadata": {},
   "source": [
    "## **Q3. Write a Python program to read a text file and print out the most frequent word(s) in the file.**"
   ]
  },
  {
   "cell_type": "code",
   "execution_count": 46,
   "metadata": {},
   "outputs": [
    {
     "name": "stdout",
     "output_type": "stream",
     "text": [
      "The most frequent word in text file is : this\n"
     ]
    }
   ],
   "source": [
    "import re \n",
    "from collections import Counter\n",
    "\n",
    "def most_freq_words(filename):\n",
    "    '''\n",
    "    Finds the most frequent word in text file \n",
    "    \n",
    "    Args :  \n",
    "        Takes the filename as input \n",
    "    \n",
    "    Returns:\n",
    "        returns the most frequent word present in the text file \n",
    "    \n",
    "    '''\n",
    "    \n",
    "    with open(filename, 'r') as file_data :\n",
    "        words= []\n",
    "        for line in file_data:\n",
    "            words += line.split()\n",
    "            \n",
    "    word_count = Counter(words)\n",
    "    most_freqent_words = word_count.most_common(1)[0][0]\n",
    "    \n",
    "    return most_freqent_words\n",
    "\n",
    "\n",
    "\n",
    "if __name__ == '__main__':\n",
    "    filename = input('Enter the file name: ')\n",
    "    print('The most frequent word in text file is :',most_freq_words(filename))\n"
   ]
  },
  {
   "cell_type": "markdown",
   "metadata": {},
   "source": [
    "## **Q4. How can you use Python to count the number of rows in a CSV file?**"
   ]
  },
  {
   "cell_type": "code",
   "execution_count": 3,
   "metadata": {},
   "outputs": [
    {
     "name": "stdout",
     "output_type": "stream",
     "text": [
      "16\n"
     ]
    }
   ],
   "source": [
    "import csv\n",
    "\n",
    "def count_rows_in_csv(filename):\n",
    "    '''Count the number of row that a csv file cantains\n",
    "    Args:\n",
    "        takes filename as input .\n",
    "    Returns:\n",
    "        returns the number of rows that a csv file cantains\n",
    "        '''\n",
    "    \n",
    "    with open(filename , 'r') as csvfile:\n",
    "        reader = csv.reader(csvfile)\n",
    "        rows =list(reader)\n",
    "        \n",
    "    return len(rows)\n",
    "\n",
    "def main():\n",
    "    filename = \"data.csv\"\n",
    "    number_of_rows = count_rows_in_csv(filename)\n",
    "    print(number_of_rows)\n",
    "\n",
    "if __name__ == \"__main__\":\n",
    "    main()"
   ]
  },
  {
   "cell_type": "markdown",
   "metadata": {},
   "source": [
    "## **Q5. How can you use Python to calculate the average of a specific column in a CSV file?**"
   ]
  },
  {
   "cell_type": "code",
   "execution_count": 3,
   "metadata": {},
   "outputs": [
    {
     "name": "stdout",
     "output_type": "stream",
     "text": [
      "None\n",
      "the avarage of column  1 is 9.0\n"
     ]
    }
   ],
   "source": [
    "import csv\n",
    "\n",
    "def create_csv(filename):\n",
    "    with open(filename, 'w',newline='') as csv_file :\n",
    "        writer = csv.writer(csv_file)\n",
    "        for i in range(10):\n",
    "            writer.writerow([i,i*2])\n",
    "    \n",
    "def main():\n",
    "    file_path = 'data1.csv'\n",
    "    create_csv_file = create_csv(file_path)\n",
    "    print(create_csv_file)\n",
    "if __name__ == \"__main__\":\n",
    "    main()\n",
    "\n",
    "def avg_col_csv(filename,column_name):\n",
    "    with open(filename , 'r') as csvfile:\n",
    "        reader = csv.reader(csvfile) # use to read the csv file and store the data into reader var\n",
    "        column_values = [] # created an empty list to store the the column values\n",
    "        for row in reader: # iterate \n",
    "            column_values.append(int(row[column_name]))\n",
    "    \n",
    "    avarage = sum(column_values) / len(column_values)\n",
    "    \n",
    "    return avarage\n",
    "\n",
    "def main():\n",
    "    filename  = input(\"Enter the name of file: \")\n",
    "    column_name = int(input('Enter the column name: '))\n",
    "    avarage_of_col = avg_col_csv(filename,column_name)\n",
    "    print(\"the avarage of column \",format(column_name),\"is\",avarage_of_col)\n",
    "\n",
    "if __name__ == '__main__':\n",
    "    main()\n"
   ]
  },
  {
   "cell_type": "markdown",
   "metadata": {},
   "source": [
    "## **Q6. Write a Python program to read a JSON file and print out the value of a specified key.**"
   ]
  },
  {
   "cell_type": "code",
   "execution_count": 8,
   "metadata": {},
   "outputs": [
    {
     "name": "stdout",
     "output_type": "stream",
     "text": [
      "John Doe\n"
     ]
    }
   ],
   "source": [
    "import json\n",
    "\n",
    "def read_json(filename,key):\n",
    "    with open(filename , 'r') as jsonfile:\n",
    "        data = json.load(jsonfile)\n",
    "        \n",
    "        \n",
    "    print(data[key])\n",
    "    \n",
    "def main():\n",
    "  file_path = 'data.json'\n",
    "  key = 'name'\n",
    "\n",
    "  read_json(file_path, key)\n",
    "\n",
    "if __name__ == '__main__':\n",
    "  main()"
   ]
  },
  {
   "cell_type": "markdown",
   "metadata": {},
   "source": [
    "## **Q7. Can you provide a Python code snippet to write a list of strings into a text file where each string is written on a new line?**"
   ]
  },
  {
   "cell_type": "code",
   "execution_count": 22,
   "metadata": {},
   "outputs": [],
   "source": [
    "list_of_str = ['this', 'is', 'a', 'string', 'created', 'for', 'the', 'testing']\n",
    "def str_to_flie(filename,list_of_str):\n",
    "    with open(filename, 'w') as strfile:\n",
    "        # writer = strfile.writelines(list_of_str)\n",
    "        for word in list_of_str:\n",
    "            strfile.writelines(word+'\\n')\n",
    "str_to_flie('demo1.txt',list_of_str)"
   ]
  },
  {
   "cell_type": "markdown",
   "metadata": {},
   "source": [
    "## **Q8. Can you provide a Python code to read a binary file and display the data in hexadecimal format.**"
   ]
  },
  {
   "cell_type": "code",
   "execution_count": 30,
   "metadata": {},
   "outputs": [
    {
     "name": "stdout",
     "output_type": "stream",
     "text": [
      "0x5b0a5901f4c9\n"
     ]
    }
   ],
   "source": [
    "import io\n",
    "def read_binary(filename):\n",
    "    with open(filename, 'rb') as binaryfile:\n",
    "        # reader = binaryfile.read()\n",
    "        for byte in binaryfile:\n",
    "            print(hex(int(byte)))\n",
    "\n",
    "read_binary(\"demo.bin\")"
   ]
  },
  {
   "cell_type": "code",
   "execution_count": null,
   "metadata": {},
   "outputs": [],
   "source": []
  }
 ],
 "metadata": {
  "kernelspec": {
   "display_name": "Python 3",
   "language": "python",
   "name": "python3"
  },
  "language_info": {
   "codemirror_mode": {
    "name": "ipython",
    "version": 3
   },
   "file_extension": ".py",
   "mimetype": "text/x-python",
   "name": "python",
   "nbconvert_exporter": "python",
   "pygments_lexer": "ipython3",
   "version": "3.11.3"
  },
  "orig_nbformat": 4
 },
 "nbformat": 4,
 "nbformat_minor": 2
}
