{
 "cells": [
  {
   "cell_type": "code",
   "execution_count": null,
   "metadata": {},
   "outputs": [],
   "source": [
    "'''\n",
    "\n",
    "Q2. Could you help me create a Python program that can find and display the longest word in a text file?\n",
    "The program should be able to read any text file and separate its contents into individual words, taking\n",
    "into account various delimiters like spaces, punctuation marks, and other characters. Then, it should\n",
    "compare the length of each word and determine which one is the longest, and finally, print that word as\n",
    "output. The program should be versatile enough to work with various text files and be able to handle\n",
    "different formatting styles and punctuation.\n",
    "Q3. Write a Python program to read a text file and print out the most frequent word(s) in the file.\n",
    "Q4. How can you use Python to count the number of rows in a CSV file?\n",
    "Q5. How can you use Python to calculate the average of a specific column in a CSV file?\n",
    "Q6. Write a Python program to read a JSON file and print out the value of a specified key.\n",
    "Q7. Can you provide a Python code snippet to write a list of strings into a text file where each string is\n",
    "written on a new line?\n",
    "Q8. Can you provide a Python code to read a binary file and display the data in hexadecimal format.\n",
    "Q9. Can you write a Python code to read a Comma-Separated Values (CSV) file, apply a specific condition\n",
    "to each row, and create a new CSV file that contains only the rows that satisfy the condition? For example,\n",
    "if the CSV file contains information about products and their prices, you may want to create a new CSV\n",
    "file that only includes the products that are within a certain price range. The program should be able to\n",
    "read the CSV file, compare the values in each row to the specified condition, and write the rows that meet\n",
    "the criteria to a new CSV file.\n",
    "Q10. Write a Python program to read a text file, count the frequency of each word, and write the results to\n",
    "a new text file.\n",
    "'''"
   ]
  },
  {
   "cell_type": "markdown",
   "metadata": {},
   "source": [
    "## **Q1. Can you create a Python program that reads a text file and counts the number of words contained within it? The program should be designed to read the file and break it down into individual words, using spaces, punctuation marks, and other delimiters to separate the words. It should then count the number of words found in the file and display this count as output. The program should be flexible enough to work with different text files and should be able to handle a variety of formatting and punctuation styles.**"
   ]
  },
  {
   "cell_type": "code",
   "execution_count": 11,
   "metadata": {},
   "outputs": [
    {
     "name": "stdout",
     "output_type": "stream",
     "text": [
      "the number of words in file is : 17\n"
     ]
    }
   ],
   "source": [
    "def word_count_from_from(filename,delimiters):\n",
    "    \n",
    "    ''' Count the number of words in text file \n",
    "    Args:\n",
    "        give a text filename that you want to check\n",
    "    Return:\n",
    "        The number of word in text file: \n",
    "    '''\n",
    "    with open(filename,'r') as file:\n",
    "        text = file.read()\n",
    "        \n",
    "    words = text.split()\n",
    "    for delimiter in delimiters:\n",
    "        words = [word for word in words if delimiter not in word]\n",
    "        \n",
    "        return len(words)\n",
    "\n",
    "\n",
    "if __name__ == '__main__':\n",
    "    filename = input(\"Enter the name of the text file: \")\n",
    "    delimiters  = [\" /.-,!?\"]\n",
    "    number_of_word = word_count_from_from(filename,delimiters)\n",
    "    print('the number of words in file is :',number_of_word)    "
   ]
  },
  {
   "cell_type": "markdown",
   "metadata": {},
   "source": []
  }
 ],
 "metadata": {
  "kernelspec": {
   "display_name": "Python 3",
   "language": "python",
   "name": "python3"
  },
  "language_info": {
   "codemirror_mode": {
    "name": "ipython",
    "version": 3
   },
   "file_extension": ".py",
   "mimetype": "text/x-python",
   "name": "python",
   "nbconvert_exporter": "python",
   "pygments_lexer": "ipython3",
   "version": "3.11.3"
  },
  "orig_nbformat": 4
 },
 "nbformat": 4,
 "nbformat_minor": 2
}
