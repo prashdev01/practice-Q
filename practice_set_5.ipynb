{
 "cells": [
  {
   "cell_type": "code",
   "execution_count": null,
   "metadata": {},
   "outputs": [],
   "source": [
    "'''\n",
    "\n",
    "\n",
    "\n",
    "Q4. How can you use Python to count the number of rows in a CSV file?\n",
    "Q5. How can you use Python to calculate the average of a specific column in a CSV file?\n",
    "Q6. Write a Python program to read a JSON file and print out the value of a specified key.\n",
    "Q7. Can you provide a Python code snippet to write a list of strings into a text file where each string is\n",
    "written on a new line?\n",
    "Q8. Can you provide a Python code to read a binary file and display the data in hexadecimal format.\n",
    "Q9. Can you write a Python code to read a Comma-Separated Values (CSV) file, apply a specific condition\n",
    "to each row, and create a new CSV file that contains only the rows that satisfy the condition? For example,\n",
    "if the CSV file contains information about products and their prices, you may want to create a new CSV\n",
    "file that only includes the products that are within a certain price range. The program should be able to\n",
    "read the CSV file, compare the values in each row to the specified condition, and write the rows that meet\n",
    "the criteria to a new CSV file.\n",
    "Q10. Write a Python program to read a text file, count the frequency of each word, and write the results to\n",
    "a new text file.\n",
    "'''"
   ]
  },
  {
   "cell_type": "markdown",
   "metadata": {},
   "source": [
    "## **Q1. Can you create a Python program that reads a text file and counts the number of words contained within it? The program should be designed to read the file and break it down into individual words, using spaces, punctuation marks, and other delimiters to separate the words. It should then count the number of words found in the file and display this count as output. The program should be flexible enough to work with different text files and should be able to handle a variety of formatting and punctuation styles.**"
   ]
  },
  {
   "cell_type": "code",
   "execution_count": 11,
   "metadata": {},
   "outputs": [
    {
     "name": "stdout",
     "output_type": "stream",
     "text": [
      "the number of words in file is : 17\n"
     ]
    }
   ],
   "source": [
    "def word_count_from_from(filename,delimiters):\n",
    "    \n",
    "    ''' Count the number of words in text file \n",
    "    Args:\n",
    "        give a text filename that you want to check\n",
    "    Return:\n",
    "        The number of word in text file: \n",
    "    '''\n",
    "    with open(filename,'r') as file:\n",
    "        text = file.read()\n",
    "        \n",
    "    words = text.split()\n",
    "    for delimiter in delimiters:\n",
    "        words = [word for word in words if delimiter not in word]\n",
    "        \n",
    "        return len(words)\n",
    "\n",
    "\n",
    "if __name__ == '__main__':\n",
    "    filename = input(\"Enter the name of the text file: \")\n",
    "    delimiters  = [\" /.-,!?\"]\n",
    "    number_of_word = word_count_from_from(filename,delimiters)\n",
    "    print('the number of words in file is :',number_of_word)    "
   ]
  },
  {
   "cell_type": "markdown",
   "metadata": {},
   "source": [
    "## **Q2. Could you help me create a Python program that can find and display the longest word in a text file? The program should be able to read any text file and separate its contents into individual words, taking into account various delimiters like spaces, punctuation marks, and other characters. Then, it should compare the length of each word and determine which one is the longest, and finally, print that word as output. The program should be versatile enough to work with various text files and be able to handle different formatting styles and punctuation.**"
   ]
  },
  {
   "cell_type": "code",
   "execution_count": 15,
   "metadata": {},
   "outputs": [
    {
     "name": "stdout",
     "output_type": "stream",
     "text": [
      "the number of words in file is : (17, 'and largest word is ', 'would-like')\n"
     ]
    }
   ],
   "source": [
    "def word_count_from_from(filename,delimiters):\n",
    "    \n",
    "    ''' Count the number of words in text file \n",
    "    Args:\n",
    "        give a text filename that you want to check\n",
    "    Return:\n",
    "        The number of word in text file: \n",
    "        And the  longest word in the file\n",
    "    '''\n",
    "    with open(filename,'r') as file:\n",
    "        text = file.read()\n",
    "        \n",
    "    words = text.split()\n",
    "    for delimiter in delimiters:\n",
    "        words = [word for word in words if delimiter not in word]\n",
    "        \n",
    "    max_length = 0\n",
    "    largest_word = ''\n",
    "    for word in words:\n",
    "        length = len(word)\n",
    "        if length> max_length:\n",
    "            max_length = length\n",
    "            largest_word = word \n",
    "        \n",
    "    return len(words)  , 'and largest word is ' , largest_word \n",
    "\n",
    "\n",
    "if __name__ == '__main__':\n",
    "    filename = input(\"Enter the name of the text file: \")\n",
    "    delimiters  = [\" /.-,!?\"]\n",
    "    number_of_word = word_count_from_from(filename,delimiters)\n",
    "    print('the number of words in file is :',number_of_word)    "
   ]
  },
  {
   "cell_type": "markdown",
   "metadata": {},
   "source": [
    "## **Q3. Write a Python program to read a text file and print out the most frequent word(s) in the file.**"
   ]
  },
  {
   "cell_type": "code",
   "execution_count": 4,
   "metadata": {},
   "outputs": [
    {
     "name": "stdout",
     "output_type": "stream",
     "text": [
      "this is a file created for testing , an python function. hope i would-like this ! really?\n",
      "\n"
     ]
    }
   ],
   "source": [
    "def freq_word_finder(filename,delimiters):\n",
    "    '''Count the number of words in text file \n",
    "    \n",
    "    Args:\n",
    "        give a text filename that you want to check\n",
    "    Return:\n",
    "        The number of word in text file: \n",
    "        And the  longest word in the file\n",
    "    '''\n",
    "    \n",
    "    \n",
    "    with open(filename,'r') as file:\n",
    "        text = file.read()\n",
    "    # join the delimiter into a string \n",
    "    delimiters_string = \"\".join(delimiters)\n",
    "    \n",
    "    words = text.split(delimiters_string)\n",
    "\n",
    "    # creat a dictonary to store the frequency of each word \n",
    "    word_counts = {}\n",
    "    for word in words:\n",
    "        if word in word_counts:\n",
    "            word_counts[word] += 1\n",
    "        else:\n",
    "            word_counts[word] = 1\n",
    "            \n",
    "    \n",
    "\n",
    "    # Get the Most Frequent method \n",
    "    most_frequent_words = []\n",
    "    max_count = 0\n",
    "    for word,count in word_counts.items():\n",
    "        if count>max_count:\n",
    "            max_count= count\n",
    "            most_frequent_words = [word]\n",
    "        elif count==max_count:\n",
    "            most_frequent_words.append(word)\n",
    "        \n",
    "    return most_frequent_words\n",
    "    \n",
    "\n",
    "if __name__ == '__main__':\n",
    "    filename = input(\"Enter the name of the text file: \")\n",
    "    delimiters = [\" /,.-!?\"]\n",
    "    most_freq_word = freq_word_finder(filename,delimiters)\n",
    "\n",
    "    for word in most_freq_word:\n",
    "        print(word)"
   ]
  },
  {
   "cell_type": "code",
   "execution_count": 6,
   "metadata": {},
   "outputs": [],
   "source": [
    "def most_frequent_words(filename, delimiters):\n",
    "  \"\"\"Finds the most frequent words in a text file.\n",
    "\n",
    "  Args:\n",
    "    filename: The name of the text file.\n",
    "    delimiters: A list of delimiters.\n",
    "\n",
    "  Returns:\n",
    "    A list of the most frequent words in the file.\n",
    "  \"\"\"\n",
    "\n",
    "  with open(filename, \"r\") as file:\n",
    "    text = file.read()\n",
    "  # Join the delimiters into a string.\n",
    "  delimiters_string = \"\".join(delimiters)\n",
    "\n",
    "  words = text.split(delimiters_string)\n",
    "\n",
    "  # Create a dictionary to store the frequency of each word.\n",
    "  word_counts = {}\n",
    "  for word in words:\n",
    "    if word in word_counts:\n",
    "      word_counts[word] += 1\n",
    "    else:\n",
    "      word_counts[word] = 1\n",
    "\n",
    "  # Get the most frequent words.\n",
    "  most_frequent_words = []\n",
    "  max_count = 0\n",
    "  for word, count in word_counts.items():\n",
    "    if count > max_count:\n",
    "      max_count = count\n",
    "      most_frequent_words = [word]\n",
    "    else:\n",
    "      count == max_count\n",
    "      most_frequent_words.append(word)\n",
    "\n",
    "  return most_frequent_words\n",
    "\n",
    "\n",
    "if __name__ == \"__main__\":\n",
    "  filename = input(\"Enter the name of the text file: \")\n",
    "  delimiters = [\" /.-,!?\"]\n",
    "  most_frequent_words = most_frequent_words(filename, delimiters)\n",
    "\n",
    "  # Print the most frequent words.\n",
    "  # for word in most_frequent_words:\n",
    "  #   print(word)\n"
   ]
  },
  {
   "cell_type": "code",
   "execution_count": null,
   "metadata": {},
   "outputs": [],
   "source": []
  }
 ],
 "metadata": {
  "kernelspec": {
   "display_name": "Python 3",
   "language": "python",
   "name": "python3"
  },
  "language_info": {
   "codemirror_mode": {
    "name": "ipython",
    "version": 3
   },
   "file_extension": ".py",
   "mimetype": "text/x-python",
   "name": "python",
   "nbconvert_exporter": "python",
   "pygments_lexer": "ipython3",
   "version": "3.11.3"
  },
  "orig_nbformat": 4
 },
 "nbformat": 4,
 "nbformat_minor": 2
}
