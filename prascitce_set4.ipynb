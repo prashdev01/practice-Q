{
 "cells": [
  {
   "cell_type": "markdown",
   "metadata": {},
   "source": [
    "# **Q1. Create a class called \"Person\" with properties for \"name\", \"age\", and \"gender\". Create an object of this class and print out its properties.**"
   ]
  },
  {
   "cell_type": "code",
   "execution_count": 2,
   "metadata": {},
   "outputs": [
    {
     "name": "stdout",
     "output_type": "stream",
     "text": [
      "Name : prashant\n",
      "Age : 21\n",
      "Gender : male\n"
     ]
    }
   ],
   "source": [
    "class person:\n",
    "    def __init__(self,name, age , gender):\n",
    "        self.name = name\n",
    "        self.age = age\n",
    "        self.gender = gender\n",
    "        \n",
    "    \n",
    "\n",
    "person1 = person('prashant' , 21 , 'male')\n",
    "print('Name :', person1.name)\n",
    "print('Age :', person1.age)\n",
    "print('Gender :', person1.gender)"
   ]
  },
  {
   "cell_type": "markdown",
   "metadata": {},
   "source": [
    "# **Q2. Write a Python class called \"Rectangle\" with attributes for \"width\" and \"height\". Implement methods to calculate the area and perimeter of the rectangle. Create an instance of this class and use it to print out the rectangle's area and perimeter.**"
   ]
  },
  {
   "cell_type": "code",
   "execution_count": 4,
   "metadata": {},
   "outputs": [
    {
     "name": "stdout",
     "output_type": "stream",
     "text": [
      "The area of rectangle is : 1000\n",
      "The perimeter for rectangle is : 140\n"
     ]
    }
   ],
   "source": [
    "class rectangle:\n",
    "    def __init__(self,width,height):\n",
    "        self.width = width\n",
    "        self.height = height\n",
    "        \n",
    "    \n",
    "    def area(self):\n",
    "        return self.width*self.height\n",
    "    \n",
    "    def perimeter(self):\n",
    "        return 2 * (self.width + self.height)\n",
    "    \n",
    "rect = rectangle(20, 50)\n",
    "print(\"The area of rectangle is :\",rect.area())\n",
    "print(\"The perimeter for rectangle is :\",rect.perimeter())\n",
    "    "
   ]
  },
  {
   "cell_type": "markdown",
   "metadata": {},
   "source": [
    "# **Q3. Write a Python class called \"BankAccount\" with attributes for \"balance\" and \"interest_rate\". Implement methods to deposit and withdraw money from the account, as well as to calculate the interest earned on the balance based on the interest rate. Create an instance of this class and use it to test out the implemented methods for deposit, withdrawal, and interest calculation.**"
   ]
  },
  {
   "cell_type": "code",
   "execution_count": 9,
   "metadata": {},
   "outputs": [
    {
     "name": "stdout",
     "output_type": "stream",
     "text": [
      "Total balance 20000\n",
      "Deposited amount 22000\n",
      "Withdrawal status Transaction Failed due to Insufficient Balance\n"
     ]
    }
   ],
   "source": [
    "class bankaccount:\n",
    "    \n",
    "    def  __init__(self,ACbalance , interest_rate ):\n",
    "        self.interest_rate = interest_rate \n",
    "        self.ACbalance = ACbalance \n",
    "    \n",
    "    def total_balance(self):\n",
    "        return  self.ACbalance\n",
    "        \n",
    "    def deposites(self , amount):\n",
    "        self.amount = amount\n",
    "        self.ACbalance += amount\n",
    "        return self.ACbalance\n",
    "        \n",
    "        \n",
    "    def withdraws(self, amount):\n",
    "        self.amount = amount\n",
    "        if amount < self.ACbalance:\n",
    "            self.ACbalance -= amount\n",
    "            return \" The withdrawel of  widhdraw  is successful \"\n",
    "        else:\n",
    "            return \"Transaction Failed due to Insufficient Balance\"\n",
    "    def self_interst_rate(self):\n",
    "        return self.ACbalance * self.interest_rate\n",
    "\n",
    "\n",
    "\n",
    "account = bankaccount(20000,0.05)\n",
    "print('Total balance',account.total_balance())\n",
    "print('Deposited amount',account.deposites(2000))\n",
    "print('Withdrawal status', account.withdraws(40000))"
   ]
  },
  {
   "cell_type": "markdown",
   "metadata": {},
   "source": [
    "# **Q4. Write a Python class called \"Animal\" with attributes for \"name\" and \"species\". Create a subclass of \"Animal\" called \"Dog\" with additional attributes for \"breed\" and \"owner\". Implement both classes with appropriate methods and constructors to initialise their properties. Create instances of both classes and use them to print # out the various properties of the animals and dogs, such as their names, species, breeds, and owners.**"
   ]
  },
  {
   "cell_type": "code",
   "execution_count": 20,
   "metadata": {},
   "outputs": [
    {
     "name": "stdout",
     "output_type": "stream",
     "text": [
      "Fido\n",
      "Canine\n",
      "Golden Retriever\n",
      "John Doe\n"
     ]
    }
   ],
   "source": [
    "class Animals:\n",
    "    def __init__(self,name, species, ):\n",
    "        self.name = name\n",
    "        self.species = species\n",
    "        \n",
    "    def speak(self):\n",
    "        raise NotImplementedError(\"subclass must implement this method\")\n",
    "        \n",
    "    \n",
    "class Dog(Animals):\n",
    "    def __init__(self,name,species,  breed , owners) :\n",
    "        super().__init__(name,species)\n",
    "        self.breed = breed\n",
    "        self.owners = owners\n",
    "        \n",
    "        \n",
    "    def speak(self):\n",
    "        return 'Woof!'\n",
    "\n",
    "\n",
    "dog = Dog(\"Fido\", \"Canine\", \"Golden Retriever\", \"John Doe\")   \n",
    "print(dog.name)\n",
    "print(dog.species)\n",
    "print(dog.breed)\n",
    "print(dog.owners)\n",
    "    "
   ]
  },
  {
   "cell_type": "markdown",
   "metadata": {},
   "source": [
    "# **Q5. Create a class called \"Car\" with properties for \"make\", \"model\", and \"year\". Create a subclass of \"Car\" called \"ElectricCar\" with additional properties for \"battery_size\" and \"range\". Create objects of both classes and print out their properties.**"
   ]
  },
  {
   "cell_type": "code",
   "execution_count": 27,
   "metadata": {},
   "outputs": [
    {
     "name": "stdout",
     "output_type": "stream",
     "text": [
      "Tesla\n",
      "Model 3\n",
      "2023\n",
      "82\n",
      "358 \n",
      "\n",
      "Tesla\n",
      "Model 3\n",
      "2023\n"
     ]
    }
   ],
   "source": [
    "class Car:\n",
    "    def __init__(self,make, model,year):\n",
    "        self.make = make\n",
    "        self.model = model\n",
    "        self.year = year\n",
    "        \n",
    "    \n",
    "class ElectricCar(Car):\n",
    "    def __init__(self, make, model, year,battery_size,range):\n",
    "        super().__init__(make, model, year)\n",
    "        self.battery_size= battery_size\n",
    "        self.range = range\n",
    "        \n",
    "    \n",
    "tesla = ElectricCar(\"Tesla\", \"Model 3\", 2023, 82, 358)\n",
    "print(tesla.make)\n",
    "print(tesla.model)\n",
    "print(tesla.year)\n",
    "print(tesla.battery_size)\n",
    "print(tesla.range,'\\n')\n",
    "\n",
    "honda = Car(\"Honda\", \"Accord\", 2022)\n",
    "print(tesla.make)\n",
    "print(tesla.model)\n",
    "print(tesla.year)\n",
    "        "
   ]
  },
  {
   "cell_type": "markdown",
   "metadata": {},
   "source": [
    "# **Q6. Create a class called \"Student\" with properties for \"name\" and \"id\". Create a subclass of \"Student\" called \"GraduateStudent\" with additional properties for \"advisor\" and \"research_area\". Create objects of both classes and print out their properties.**"
   ]
  },
  {
   "cell_type": "code",
   "execution_count": 6,
   "metadata": {},
   "outputs": [
    {
     "name": "stdout",
     "output_type": "stream",
     "text": [
      "John Doe\n",
      "123456789 \n",
      "\n",
      "John Doe\n",
      "123456789\n",
      "Professor Smith\n",
      "Machine Learning\n"
     ]
    }
   ],
   "source": [
    "class Student:\n",
    "    def __init__(self,name,id) -> None:\n",
    "        self.name = name\n",
    "        self.id = id\n",
    "\n",
    "class GraduateStudent(Student):\n",
    "    def __init__(self, name, id , advisor ,research_area) -> None:\n",
    "        super().__init__(name, id)\n",
    "        self.advisor = advisor\n",
    "        self.research_area = research_area\n",
    "        \n",
    "student1 = Student(\"John Doe\", 123456789)\n",
    "print(student1.name)\n",
    "print(student1.id,'\\n')\n",
    "\n",
    "graduate_student1=GraduateStudent(\"John Doe\", 123456789,  \"Professor Smith\", \"Machine Learning\")\n",
    "print(graduate_student1.name)\n",
    "print(graduate_student1.id)\n",
    "print(graduate_student1.advisor)\n",
    "print(graduate_student1.research_area)\n"
   ]
  },
  {
   "cell_type": "markdown",
   "metadata": {},
   "source": [
    "# **Q7. Create a class called \"Shape\" with methods to calculate the area and perimeter of the shape. Create subclasses of \"Shape\" for \"Rectangle\", \"Circle\", and \"Triangle\" with their own methods for calculating area and perimeter. Create objects of each class and print out their area and perimeter.**"
   ]
  },
  {
   "cell_type": "code",
   "execution_count": 32,
   "metadata": {},
   "outputs": [
    {
     "name": "stdout",
     "output_type": "stream",
     "text": [
      "Area of rectangle is  50\n",
      "perimeter of rectangle  30 \n",
      "\n",
      "Area of Trianlge is :  43.30127018922193 \n",
      "\n",
      "Area of Triangle is : 314.0 \n",
      "\n"
     ]
    }
   ],
   "source": [
    "import abc\n",
    "import math\n",
    "\n",
    "class shape:\n",
    "    def __init__(self) -> None:\n",
    "        pass\n",
    "    \n",
    "    @abc.abstractclassmethod\n",
    "    def area_of_rect(self,height,width):\n",
    "        pass\n",
    "    \n",
    "    @abc.abstractmethod\n",
    "    def araa_of_triangle(self):\n",
    "        pass\n",
    "    \n",
    "    @abc.abstractmethod\n",
    "    def area_circle(self):\n",
    "        pass\n",
    "    \n",
    "\n",
    "class rectangle(shape):\n",
    "    \n",
    "    def __init__(self,height,width) -> None:\n",
    "        self.height = height\n",
    "        self.width = width\n",
    "    \n",
    "    def area_of_reactangle(self):\n",
    "        \n",
    "        return self.height * self.width\n",
    "    \n",
    "    def perimeter_of_rect(self):\n",
    "        return 2 * (self.height+self.width)\n",
    "\n",
    "class triangle(shape):\n",
    "    def __init__(self,side1,side2,side3) -> None:\n",
    "        self.side1 =side1\n",
    "        self.side2 =side2\n",
    "        self.side3 =side3\n",
    "        \n",
    "        \n",
    "    def  araa_of_triangle(self):\n",
    "        s = (self.side1 + self.side2 + self.side3) /2\n",
    "        return math.sqrt(s * (s - self.side1) * (s - self.side2 ) * (s - self.side3))\n",
    "\n",
    "class circle(shape):\n",
    "    def __init__(self, radius):\n",
    "        self.radius = radius\n",
    "    \n",
    "    def area_of_circle(self):\n",
    "        return 3.14 * (self.radius**2)\n",
    "\n",
    "\n",
    "rect = rectangle(10,5)\n",
    "print(\"Area of rectangle is \",rect.area_of_reactangle())\n",
    "print(\"perimeter of rectangle \",rect.perimeter_of_rect(),\"\\n\")\n",
    "\n",
    "triangle1 = triangle(10,10,10)\n",
    "print('Area of Trianlge is : ',triangle1.araa_of_triangle(),'\\n')\n",
    "\n",
    "circle1 = circle(10)\n",
    "print('Area of Triangle is :', circle1.area_of_circle(),'\\n')"
   ]
  },
  {
   "cell_type": "markdown",
   "metadata": {},
   "source": [
    "# **Q8. Create a class called \"Employee\" with properties for \"name\", \"id\", and \"salary\". Add methods to give the employee a raise and to calculate their annual salary. Create objects of this class and test out the methods.**"
   ]
  },
  {
   "cell_type": "code",
   "execution_count": 41,
   "metadata": {},
   "outputs": [
    {
     "name": "stdout",
     "output_type": "stream",
     "text": [
      "540000.0\n"
     ]
    }
   ],
   "source": [
    "class  Employee:\n",
    "    def __init__(self,name ,id ,salary) -> None:\n",
    "        self.name  = name\n",
    "        self.id = id \n",
    "        self.salary  = salary\n",
    "    def raise_in_salary(self,raise_):\n",
    "        self.raise_ = raise_ \n",
    "        self.salary = self.salary * (1 + raise_)\n",
    "        anual_salary = self.salary * 12\n",
    "        return round(anual_salary,2)\n",
    "\n",
    "emp1 = Employee('prashant',123,30000)\n",
    "print(emp1.raise_in_salary(0.5))\n"
   ]
  },
  {
   "cell_type": "markdown",
   "metadata": {},
   "source": [
    "# **Q9. Create a class called \"Book\" with properties for \"title\", \"author\", and \"publisher\". Create a subclass of \"Book\" called \"Ebook\" with additional properties for \"file_format\" and \"file_size\". Create objects of both classes and print out their properties.**"
   ]
  },
  {
   "cell_type": "code",
   "execution_count": 49,
   "metadata": {},
   "outputs": [
    {
     "name": "stdout",
     "output_type": "stream",
     "text": [
      "DSA in python Harry conon\n",
      "DSA In Python harry canon pdf 40 MB\n"
     ]
    }
   ],
   "source": [
    "class Book:\n",
    "    \n",
    "    def __init__(self,title ,author, publisher) -> None:\n",
    "        self.title = title\n",
    "        self.author = author\n",
    "        self.publisher = publisher\n",
    "    \n",
    "    \n",
    "class Ebook(Book):\n",
    "    def __init__(self, title, author, publisher,file_format , file_size) -> None:\n",
    "        super().__init__(title, author, publisher)\n",
    "        self.file_format = file_format\n",
    "        self.file_size = file_size\n",
    "\n",
    "book1 = Book('DSA in python' , 'Harry', \"conon\")\n",
    "\n",
    "print(book1.title,book1.author,book1.publisher)\n",
    "\n",
    "ebbok1 = Ebook('DSA In Python', 'harry', 'canon', 'pdf' , '40 MB')\n",
    "print(ebbok1.title,ebbok1.author,ebbok1.publisher,ebbok1.file_format,ebbok1.file_size)"
   ]
  },
  {
   "cell_type": "markdown",
   "metadata": {},
   "source": [
    "# **Q10. Create a class called \"Bank\" with properties for \"name\" and \"accounts\". Add methods to create new accounts, deposit and withdraw money from accounts, and to calculate the total balance of all accounts. Create an object of this class and test out the methods.**"
   ]
  },
  {
   "cell_type": "markdown",
   "metadata": {},
   "source": [
    "* we have to create multiple account and withdraw money from them and deposite as and calculate all the money for all account\n",
    "\n",
    "* first thing we have to do is create an account then we have specofy whihc account to use for withdrawel or deopsits \n",
    "* then calculate all the accounts money "
   ]
  },
  {
   "cell_type": "code",
   "execution_count": 20,
   "metadata": {},
   "outputs": [
    {
     "ename": "TypeError",
     "evalue": "string indices must be integers, not 'str'",
     "output_type": "error",
     "traceback": [
      "\u001b[1;31m---------------------------------------------------------------------------\u001b[0m",
      "\u001b[1;31mTypeError\u001b[0m                                 Traceback (most recent call last)",
      "Cell \u001b[1;32mIn[20], line 44\u001b[0m\n\u001b[0;32m     42\u001b[0m bank \u001b[39m=\u001b[39m Bank(\u001b[39m\"\u001b[39m\u001b[39mMy Bank\u001b[39m\u001b[39m\"\u001b[39m)\n\u001b[0;32m     43\u001b[0m bank\u001b[39m.\u001b[39mcreate_account(\u001b[39m\"\u001b[39m\u001b[39m1234567890\u001b[39m\u001b[39m\"\u001b[39m, \u001b[39m1000\u001b[39m)\n\u001b[1;32m---> 44\u001b[0m bank\u001b[39m.\u001b[39;49mdeposite(\u001b[39m\"\u001b[39;49m\u001b[39m1234567890\u001b[39;49m\u001b[39m\"\u001b[39;49m, \u001b[39m500\u001b[39;49m)\n\u001b[0;32m     45\u001b[0m bank\u001b[39m.\u001b[39mwithdraw(\u001b[39m\"\u001b[39m\u001b[39m1234567890\u001b[39m\u001b[39m\"\u001b[39m, \u001b[39m200\u001b[39m)\n\u001b[0;32m     46\u001b[0m \u001b[39mprint\u001b[39m(bank\u001b[39m.\u001b[39mtotal_balance_of_all_AC())  \n",
      "Cell \u001b[1;32mIn[20], line 17\u001b[0m, in \u001b[0;36mBank.deposite\u001b[1;34m(self, account_number, amount)\u001b[0m\n\u001b[0;32m     15\u001b[0m \u001b[39mself\u001b[39m\u001b[39m.\u001b[39maccount_number \u001b[39m=\u001b[39m account_number\n\u001b[0;32m     16\u001b[0m \u001b[39mfor\u001b[39;00m account \u001b[39min\u001b[39;00m \u001b[39mself\u001b[39m\u001b[39m.\u001b[39maccounts:\n\u001b[1;32m---> 17\u001b[0m     \u001b[39mif\u001b[39;00m account[\u001b[39m'\u001b[39;49m\u001b[39maccount_number\u001b[39;49m\u001b[39m'\u001b[39;49m] \u001b[39m==\u001b[39m \u001b[39mself\u001b[39m\u001b[39m.\u001b[39maccount_number:\n\u001b[0;32m     18\u001b[0m         account \u001b[39m+\u001b[39m\u001b[39m=\u001b[39m amount\n\u001b[0;32m     19\u001b[0m         \u001b[39mbreak\u001b[39;00m\n",
      "\u001b[1;31mTypeError\u001b[0m: string indices must be integers, not 'str'"
     ]
    }
   ],
   "source": [
    "class Bank:\n",
    "    def __init__(self,name) -> None:\n",
    "        self.name = name\n",
    "        self.accounts = []\n",
    "    \n",
    "    def create_account(self,accoont_number , balance):\n",
    "        self.accounts = accoont_number\n",
    "        accoont_number = ({\n",
    "            \"account_number\" : accoont_number,\n",
    "            \"balance\" : balance\n",
    "        })\n",
    "         \n",
    "    def deposite(self,account_number,amount):\n",
    "        self.amount = amount\n",
    "        self.account_number = account_number\n",
    "        for account in self.accounts:\n",
    "            if account['account_number'] == self.account_number:\n",
    "                account += amount\n",
    "                break\n",
    "    \n",
    "    def withdraw(self ,account_number, amount):\n",
    "        self.amount = amount\n",
    "        self.account_number = account_number\n",
    "        for ac in self.accounts:\n",
    "            if ac['account_number'] == account_number:\n",
    "                if ac['balance'] < amount:\n",
    "                    print(\"Insuficient Amount in Account\")\n",
    "                    return \n",
    "                ac['balance'] -= amount\n",
    "                break\n",
    "                    \n",
    "            else:\n",
    "                return \" NO account found\"\n",
    "    \n",
    "    \n",
    "    def total_balance_of_all_AC(self):\n",
    "        total_balance =  0\n",
    "        for ac in self.accounts:\n",
    "            total_balance += ac['balance']\n",
    "        return total_balance\n",
    "\n",
    "bank = Bank(\"My Bank\")\n",
    "bank.create_account(\"1234567890\", 1000)\n",
    "bank.deposite(\"1234567890\", 500)\n",
    "bank.withdraw(\"1234567890\", 200)\n",
    "print(bank.total_balance_of_all_AC())  \n",
    "        "
   ]
  },
  {
   "cell_type": "code",
   "execution_count": null,
   "metadata": {},
   "outputs": [],
   "source": []
  }
 ],
 "metadata": {
  "kernelspec": {
   "display_name": "Python 3",
   "language": "python",
   "name": "python3"
  },
  "language_info": {
   "codemirror_mode": {
    "name": "ipython",
    "version": 3
   },
   "file_extension": ".py",
   "mimetype": "text/x-python",
   "name": "python",
   "nbconvert_exporter": "python",
   "pygments_lexer": "ipython3",
   "version": "3.11.3"
  },
  "orig_nbformat": 4
 },
 "nbformat": 4,
 "nbformat_minor": 2
}
