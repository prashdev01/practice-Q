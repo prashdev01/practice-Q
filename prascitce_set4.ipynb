{
 "cells": [
  {
   "cell_type": "code",
   "execution_count": 1,
   "metadata": {},
   "outputs": [
    {
     "data": {
      "text/plain": [
       "'\\n\\n\\nQ3. Write a Python class called \"BankAccount\" with attributes for \"balance\" and \"interest_rate\".\\nImplement methods to deposit and withdraw money from the account, as well as to calculate the interest\\nearned on the balance based on the interest rate. Create an instance of this class and use it to test out the\\nimplemented methods for deposit, withdrawal, and interest calculation.\\nQ4. Write a Python class called \"Animal\" with attributes for \"name\" and \"species\". Create a subclass of\\n\"Animal\" called \"Dog\" with additional attributes for \"breed\" and \"owner\". Implement both classes with\\nappropriate methods and constructors to initialise their properties. Create instances of both classes and\\nuse them to print out the various properties of the animals and dogs, such as their names, species,\\nbreeds, and owners.\\nQ5. Create a class called \"Car\" with properties for \"make\", \"model\", and \"year\". Create a subclass of \"Car\"\\ncalled \"ElectricCar\" with additional properties for \"battery_size\" and \"range\". Create objects of both\\nclasses and print out their properties.\\nQ6. Create a class called \"Student\" with properties for \"name\" and \"id\". Create a subclass of \"Student\"\\ncalled \"GraduateStudent\" with additional properties for \"advisor\" and \"research_area\". Create objects of\\nboth classes and print out their properties.\\nQ7. Create a class called \"Shape\" with methods to calculate the area and perimeter of the shape. Create\\nsubclasses of \"Shape\" for \"Rectangle\", \"Circle\", and \"Triangle\" with their own methods for calculating area\\nand perimeter. Create objects of each class and print out their area and perimeter.\\nQ8. Create a class called \"Employee\" with properties for \"name\", \"id\", and \"salary\". Add methods to give\\nthe employee a raise and to calculate their annual salary. Create objects of this class and test out the\\nmethods.\\nQ9. Create a class called \"Book\" with properties for \"title\", \"author\", and \"publisher\". Create a subclass of\\n\"Book\" called \"Ebook\" with additional properties for \"file_format\" and \"file_size\". Create objects of both\\nclasses and print out their properties.\\nQ10. Create a class called \"Bank\" with properties for \"name\" and \"accounts\". Add methods to create new\\naccounts, deposit and withdraw money from accounts, and to calculate the total balance of all accounts.\\nCreate an object of this class and test out the methods.'"
      ]
     },
     "execution_count": 1,
     "metadata": {},
     "output_type": "execute_result"
    }
   ],
   "source": [
    "'''\n",
    "\n",
    "\n",
    "Q3. Write a Python class called \"BankAccount\" with attributes for \"balance\" and \"interest_rate\".\n",
    "Implement methods to deposit and withdraw money from the account, as well as to calculate the interest\n",
    "earned on the balance based on the interest rate. Create an instance of this class and use it to test out the\n",
    "implemented methods for deposit, withdrawal, and interest calculation.\n",
    "Q4. Write a Python class called \"Animal\" with attributes for \"name\" and \"species\". Create a subclass of\n",
    "\"Animal\" called \"Dog\" with additional attributes for \"breed\" and \"owner\". Implement both classes with\n",
    "appropriate methods and constructors to initialise their properties. Create instances of both classes and\n",
    "use them to print out the various properties of the animals and dogs, such as their names, species,\n",
    "breeds, and owners.\n",
    "Q5. Create a class called \"Car\" with properties for \"make\", \"model\", and \"year\". Create a subclass of \"Car\"\n",
    "called \"ElectricCar\" with additional properties for \"battery_size\" and \"range\". Create objects of both\n",
    "classes and print out their properties.\n",
    "Q6. Create a class called \"Student\" with properties for \"name\" and \"id\". Create a subclass of \"Student\"\n",
    "called \"GraduateStudent\" with additional properties for \"advisor\" and \"research_area\". Create objects of\n",
    "both classes and print out their properties.\n",
    "Q7. Create a class called \"Shape\" with methods to calculate the area and perimeter of the shape. Create\n",
    "subclasses of \"Shape\" for \"Rectangle\", \"Circle\", and \"Triangle\" with their own methods for calculating area\n",
    "and perimeter. Create objects of each class and print out their area and perimeter.\n",
    "Q8. Create a class called \"Employee\" with properties for \"name\", \"id\", and \"salary\". Add methods to give\n",
    "the employee a raise and to calculate their annual salary. Create objects of this class and test out the\n",
    "methods.\n",
    "Q9. Create a class called \"Book\" with properties for \"title\", \"author\", and \"publisher\". Create a subclass of\n",
    "\"Book\" called \"Ebook\" with additional properties for \"file_format\" and \"file_size\". Create objects of both\n",
    "classes and print out their properties.\n",
    "Q10. Create a class called \"Bank\" with properties for \"name\" and \"accounts\". Add methods to create new\n",
    "accounts, deposit and withdraw money from accounts, and to calculate the total balance of all accounts.\n",
    "Create an object of this class and test out the methods.'''"
   ]
  },
  {
   "cell_type": "markdown",
   "metadata": {},
   "source": [
    "# **Q1. Create a class called \"Person\" with properties for \"name\", \"age\", and \"gender\". Create an object of this class and print out its properties.**"
   ]
  },
  {
   "cell_type": "code",
   "execution_count": 2,
   "metadata": {},
   "outputs": [
    {
     "name": "stdout",
     "output_type": "stream",
     "text": [
      "Name : prashant\n",
      "Age : 21\n",
      "Gender : male\n"
     ]
    }
   ],
   "source": [
    "class person:\n",
    "    def __init__(self,name, age , gender):\n",
    "        self.name = name\n",
    "        self.age = age\n",
    "        self.gender = gender\n",
    "        \n",
    "    \n",
    "\n",
    "person1 = person('prashant' , 21 , 'male')\n",
    "print('Name :', person1.name)\n",
    "print('Age :', person1.age)\n",
    "print('Gender :', person1.gender)"
   ]
  },
  {
   "cell_type": "markdown",
   "metadata": {},
   "source": [
    "# **Q2. Write a Python class called \"Rectangle\" with attributes for \"width\" and \"height\". Implement methods to calculate the area and perimeter of the rectangle. Create an instance of this class and use it to print out the rectangle's area and perimeter.**"
   ]
  },
  {
   "cell_type": "code",
   "execution_count": 4,
   "metadata": {},
   "outputs": [
    {
     "name": "stdout",
     "output_type": "stream",
     "text": [
      "The area of rectangle is : 1000\n",
      "The perimeter for rectangle is : 140\n"
     ]
    }
   ],
   "source": [
    "class rectangle:\n",
    "    def __init__(self,width,height):\n",
    "        self.width = width\n",
    "        self.height = height\n",
    "        \n",
    "    \n",
    "    def area(self):\n",
    "        return self.width*self.height\n",
    "    \n",
    "    def perimeter(self):\n",
    "        return 2 * (self.width + self.height)\n",
    "    \n",
    "rect = rectangle(20, 50)\n",
    "print(\"The area of rectangle is :\",rect.area())\n",
    "print(\"The perimeter for rectangle is :\",rect.perimeter())\n",
    "    "
   ]
  },
  {
   "cell_type": "code",
   "execution_count": null,
   "metadata": {},
   "outputs": [],
   "source": []
  }
 ],
 "metadata": {
  "kernelspec": {
   "display_name": "Python 3",
   "language": "python",
   "name": "python3"
  },
  "language_info": {
   "codemirror_mode": {
    "name": "ipython",
    "version": 3
   },
   "file_extension": ".py",
   "mimetype": "text/x-python",
   "name": "python",
   "nbconvert_exporter": "python",
   "pygments_lexer": "ipython3",
   "version": "3.11.3"
  },
  "orig_nbformat": 4
 },
 "nbformat": 4,
 "nbformat_minor": 2
}
