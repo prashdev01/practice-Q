{
 "cells": [
  {
   "cell_type": "code",
   "execution_count": 1,
   "metadata": {},
   "outputs": [
    {
     "data": {
      "text/plain": [
       "'\\n\\n\\nQ3. Write a Python class called \"BankAccount\" with attributes for \"balance\" and \"interest_rate\".\\nImplement methods to deposit and withdraw money from the account, as well as to calculate the interest\\nearned on the balance based on the interest rate. Create an instance of this class and use it to test out the\\nimplemented methods for deposit, withdrawal, and interest calculation.\\nQ4. Write a Python class called \"Animal\" with attributes for \"name\" and \"species\". Create a subclass of\\n\"Animal\" called \"Dog\" with additional attributes for \"breed\" and \"owner\". Implement both classes with\\nappropriate methods and constructors to initialise their properties. Create instances of both classes and\\nuse them to print out the various properties of the animals and dogs, such as their names, species,\\nbreeds, and owners.\\nQ5. Create a class called \"Car\" with properties for \"make\", \"model\", and \"year\". Create a subclass of \"Car\"\\ncalled \"ElectricCar\" with additional properties for \"battery_size\" and \"range\". Create objects of both\\nclasses and print out their properties.\\nQ6. Create a class called \"Student\" with properties for \"name\" and \"id\". Create a subclass of \"Student\"\\ncalled \"GraduateStudent\" with additional properties for \"advisor\" and \"research_area\". Create objects of\\nboth classes and print out their properties.\\nQ7. Create a class called \"Shape\" with methods to calculate the area and perimeter of the shape. Create\\nsubclasses of \"Shape\" for \"Rectangle\", \"Circle\", and \"Triangle\" with their own methods for calculating area\\nand perimeter. Create objects of each class and print out their area and perimeter.\\nQ8. Create a class called \"Employee\" with properties for \"name\", \"id\", and \"salary\". Add methods to give\\nthe employee a raise and to calculate their annual salary. Create objects of this class and test out the\\nmethods.\\nQ9. Create a class called \"Book\" with properties for \"title\", \"author\", and \"publisher\". Create a subclass of\\n\"Book\" called \"Ebook\" with additional properties for \"file_format\" and \"file_size\". Create objects of both\\nclasses and print out their properties.\\nQ10. Create a class called \"Bank\" with properties for \"name\" and \"accounts\". Add methods to create new\\naccounts, deposit and withdraw money from accounts, and to calculate the total balance of all accounts.\\nCreate an object of this class and test out the methods.'"
      ]
     },
     "execution_count": 1,
     "metadata": {},
     "output_type": "execute_result"
    }
   ],
   "source": [
    "'''\n",
    "\n",
    "\n",
    "\n",
    "\n",
    "\n",
    "\n",
    "\n",
    "Q8. Create a class called \"Employee\" with properties for \"name\", \"id\", and \"salary\". Add methods to give\n",
    "the employee a raise and to calculate their annual salary. Create objects of this class and test out the\n",
    "methods.\n",
    "Q9. Create a class called \"Book\" with properties for \"title\", \"author\", and \"publisher\". Create a subclass of\n",
    "\"Book\" called \"Ebook\" with additional properties for \"file_format\" and \"file_size\". Create objects of both\n",
    "classes and print out their properties.\n",
    "Q10. Create a class called \"Bank\" with properties for \"name\" and \"accounts\". Add methods to create new\n",
    "accounts, deposit and withdraw money from accounts, and to calculate the total balance of all accounts.\n",
    "Create an object of this class and test out the methods.'''"
   ]
  },
  {
   "cell_type": "markdown",
   "metadata": {},
   "source": [
    "# **Q1. Create a class called \"Person\" with properties for \"name\", \"age\", and \"gender\". Create an object of this class and print out its properties.**"
   ]
  },
  {
   "cell_type": "code",
   "execution_count": 2,
   "metadata": {},
   "outputs": [
    {
     "name": "stdout",
     "output_type": "stream",
     "text": [
      "Name : prashant\n",
      "Age : 21\n",
      "Gender : male\n"
     ]
    }
   ],
   "source": [
    "class person:\n",
    "    def __init__(self,name, age , gender):\n",
    "        self.name = name\n",
    "        self.age = age\n",
    "        self.gender = gender\n",
    "        \n",
    "    \n",
    "\n",
    "person1 = person('prashant' , 21 , 'male')\n",
    "print('Name :', person1.name)\n",
    "print('Age :', person1.age)\n",
    "print('Gender :', person1.gender)"
   ]
  },
  {
   "cell_type": "markdown",
   "metadata": {},
   "source": [
    "# **Q2. Write a Python class called \"Rectangle\" with attributes for \"width\" and \"height\". Implement methods to calculate the area and perimeter of the rectangle. Create an instance of this class and use it to print out the rectangle's area and perimeter.**"
   ]
  },
  {
   "cell_type": "code",
   "execution_count": 4,
   "metadata": {},
   "outputs": [
    {
     "name": "stdout",
     "output_type": "stream",
     "text": [
      "The area of rectangle is : 1000\n",
      "The perimeter for rectangle is : 140\n"
     ]
    }
   ],
   "source": [
    "class rectangle:\n",
    "    def __init__(self,width,height):\n",
    "        self.width = width\n",
    "        self.height = height\n",
    "        \n",
    "    \n",
    "    def area(self):\n",
    "        return self.width*self.height\n",
    "    \n",
    "    def perimeter(self):\n",
    "        return 2 * (self.width + self.height)\n",
    "    \n",
    "rect = rectangle(20, 50)\n",
    "print(\"The area of rectangle is :\",rect.area())\n",
    "print(\"The perimeter for rectangle is :\",rect.perimeter())\n",
    "    "
   ]
  },
  {
   "cell_type": "markdown",
   "metadata": {},
   "source": [
    "# **Q3. Write a Python class called \"BankAccount\" with attributes for \"balance\" and \"interest_rate\". Implement methods to deposit and withdraw money from the account, as well as to calculate the interest earned on the balance based on the interest rate. Create an instance of this class and use it to test out the implemented methods for deposit, withdrawal, and interest calculation.**"
   ]
  },
  {
   "cell_type": "code",
   "execution_count": 9,
   "metadata": {},
   "outputs": [
    {
     "name": "stdout",
     "output_type": "stream",
     "text": [
      "Total balance 20000\n",
      "Deposited amount 22000\n",
      "Withdrawal status Transaction Failed due to Insufficient Balance\n"
     ]
    }
   ],
   "source": [
    "class bankaccount:\n",
    "    \n",
    "    def  __init__(self,ACbalance , interest_rate ):\n",
    "        self.interest_rate = interest_rate \n",
    "        self.ACbalance = ACbalance \n",
    "    \n",
    "    def total_balance(self):\n",
    "        return  self.ACbalance\n",
    "        \n",
    "    def deposites(self , amount):\n",
    "        self.amount = amount\n",
    "        self.ACbalance += amount\n",
    "        return self.ACbalance\n",
    "        \n",
    "        \n",
    "    def withdraws(self, amount):\n",
    "        self.amount = amount\n",
    "        if amount < self.ACbalance:\n",
    "            self.ACbalance -= amount\n",
    "            return \" The withdrawel of  widhdraw  is successful \"\n",
    "        else:\n",
    "            return \"Transaction Failed due to Insufficient Balance\"\n",
    "    def self_interst_rate(self):\n",
    "        return self.ACbalance * self.interest_rate\n",
    "\n",
    "\n",
    "\n",
    "account = bankaccount(20000,0.05)\n",
    "print('Total balance',account.total_balance())\n",
    "print('Deposited amount',account.deposites(2000))\n",
    "print('Withdrawal status', account.withdraws(40000))"
   ]
  },
  {
   "cell_type": "markdown",
   "metadata": {},
   "source": [
    "# **Q4. Write a Python class called \"Animal\" with attributes for \"name\" and \"species\". Create a subclass of \"Animal\" called \"Dog\" with additional attributes for \"breed\" and \"owner\". Implement both classes with appropriate methods and constructors to initialise their properties. Create instances of both classes and use them to print # out the various properties of the animals and dogs, such as their names, species, breeds, and owners.**"
   ]
  },
  {
   "cell_type": "code",
   "execution_count": 20,
   "metadata": {},
   "outputs": [
    {
     "name": "stdout",
     "output_type": "stream",
     "text": [
      "Fido\n",
      "Canine\n",
      "Golden Retriever\n",
      "John Doe\n"
     ]
    }
   ],
   "source": [
    "class Animals:\n",
    "    def __init__(self,name, species, ):\n",
    "        self.name = name\n",
    "        self.species = species\n",
    "        \n",
    "    def speak(self):\n",
    "        raise NotImplementedError(\"subclass must implement this method\")\n",
    "        \n",
    "    \n",
    "class Dog(Animals):\n",
    "    def __init__(self,name,species,  breed , owners) :\n",
    "        super().__init__(name,species)\n",
    "        self.breed = breed\n",
    "        self.owners = owners\n",
    "        \n",
    "        \n",
    "    def speak(self):\n",
    "        return 'Woof!'\n",
    "\n",
    "\n",
    "dog = Dog(\"Fido\", \"Canine\", \"Golden Retriever\", \"John Doe\")   \n",
    "print(dog.name)\n",
    "print(dog.species)\n",
    "print(dog.breed)\n",
    "print(dog.owners)\n",
    "    "
   ]
  },
  {
   "cell_type": "markdown",
   "metadata": {},
   "source": [
    "# **Q5. Create a class called \"Car\" with properties for \"make\", \"model\", and \"year\". Create a subclass of \"Car\" called \"ElectricCar\" with additional properties for \"battery_size\" and \"range\". Create objects of both classes and print out their properties.**"
   ]
  },
  {
   "cell_type": "code",
   "execution_count": 27,
   "metadata": {},
   "outputs": [
    {
     "name": "stdout",
     "output_type": "stream",
     "text": [
      "Tesla\n",
      "Model 3\n",
      "2023\n",
      "82\n",
      "358 \n",
      "\n",
      "Tesla\n",
      "Model 3\n",
      "2023\n"
     ]
    }
   ],
   "source": [
    "class Car:\n",
    "    def __init__(self,make, model,year):\n",
    "        self.make = make\n",
    "        self.model = model\n",
    "        self.year = year\n",
    "        \n",
    "    \n",
    "class ElectricCar(Car):\n",
    "    def __init__(self, make, model, year,battery_size,range):\n",
    "        super().__init__(make, model, year)\n",
    "        self.battery_size= battery_size\n",
    "        self.range = range\n",
    "        \n",
    "    \n",
    "tesla = ElectricCar(\"Tesla\", \"Model 3\", 2023, 82, 358)\n",
    "print(tesla.make)\n",
    "print(tesla.model)\n",
    "print(tesla.year)\n",
    "print(tesla.battery_size)\n",
    "print(tesla.range,'\\n')\n",
    "\n",
    "honda = Car(\"Honda\", \"Accord\", 2022)\n",
    "print(tesla.make)\n",
    "print(tesla.model)\n",
    "print(tesla.year)\n",
    "        "
   ]
  },
  {
   "cell_type": "markdown",
   "metadata": {},
   "source": [
    "# **Q6. Create a class called \"Student\" with properties for \"name\" and \"id\". Create a subclass of \"Student\" called \"GraduateStudent\" with additional properties for \"advisor\" and \"research_area\". Create objects of both classes and print out their properties.**"
   ]
  },
  {
   "cell_type": "code",
   "execution_count": 6,
   "metadata": {},
   "outputs": [
    {
     "name": "stdout",
     "output_type": "stream",
     "text": [
      "John Doe\n",
      "123456789 \n",
      "\n",
      "John Doe\n",
      "123456789\n",
      "Professor Smith\n",
      "Machine Learning\n"
     ]
    }
   ],
   "source": [
    "class Student:\n",
    "    def __init__(self,name,id) -> None:\n",
    "        self.name = name\n",
    "        self.id = id\n",
    "\n",
    "class GraduateStudent(Student):\n",
    "    def __init__(self, name, id , advisor ,research_area) -> None:\n",
    "        super().__init__(name, id)\n",
    "        self.advisor = advisor\n",
    "        self.research_area = research_area\n",
    "        \n",
    "student1 = Student(\"John Doe\", 123456789)\n",
    "print(student1.name)\n",
    "print(student1.id,'\\n')\n",
    "\n",
    "graduate_student1=GraduateStudent(\"John Doe\", 123456789,  \"Professor Smith\", \"Machine Learning\")\n",
    "print(graduate_student1.name)\n",
    "print(graduate_student1.id)\n",
    "print(graduate_student1.advisor)\n",
    "print(graduate_student1.research_area)\n"
   ]
  },
  {
   "cell_type": "markdown",
   "metadata": {},
   "source": [
    "# **Q7. Create a class called \"Shape\" with methods to calculate the area and perimeter of the shape. Create subclasses of \"Shape\" for \"Rectangle\", \"Circle\", and \"Triangle\" with their own methods for calculating area and perimeter. Create objects of each class and print out their area and perimeter.**"
   ]
  },
  {
   "cell_type": "code",
   "execution_count": 20,
   "metadata": {},
   "outputs": [
    {
     "data": {
      "text/plain": [
       "30"
      ]
     },
     "execution_count": 20,
     "metadata": {},
     "output_type": "execute_result"
    }
   ],
   "source": [
    "import abc\n",
    "\n",
    "class shape:\n",
    "    def __init__(self) -> None:\n",
    "        pass\n",
    "    \n",
    "    @abc.abstractclassmethod\n",
    "    def area_of_rect(self,height,width):\n",
    "        pass\n",
    "    \n",
    "    @abc.abstractmethod\n",
    "    def araa_of_triangle(self):\n",
    "        pass\n",
    "    \n",
    "    @abc.abstractmethod\n",
    "    def area_circle(self):\n",
    "        pass\n",
    "    \n",
    "\n",
    "class rectangle(shape):\n",
    "    \n",
    "    def __init__(self,height,width) -> None:\n",
    "        self.height = height\n",
    "        self.width = width\n",
    "    \n",
    "    def area_of_reactangle(self):\n",
    "        \n",
    "        return self.height * self.width\n",
    "    \n",
    "    def perimeter_of_rect(self):\n",
    "        return 2 * (self.height+self.width)\n",
    "\n",
    "class triangle(shape):\n",
    "    def __init__(self,side1,side2,side3) -> None:\n",
    "        self.side1 =side1\n",
    "        self.side2 =side2\n",
    "        self.side3 =side3\n",
    "        \n",
    "        \n",
    "    def  araa_of_triangle(self):\n",
    "        s = (self.side1 + self.side2 + self.side3)\n",
    "        return s (s - self.side1) * (s - self.side2 ) * (s - self.side3)\n",
    "\n",
    "class circle(shape):\n",
    "    def __init__(self, radius):\n",
    "        self.radius = radius\n",
    "    \n",
    "    def area_circle(self):\n",
    "        return 3.14 * (self.radius**2)\n",
    "\n",
    "\n",
    "rect = rectangle(10,5)\n",
    "print(,rect.area_of_reactangle())\n",
    "rect.perimeter_of_rect()"
   ]
  },
  {
   "cell_type": "code",
   "execution_count": null,
   "metadata": {},
   "outputs": [],
   "source": []
  }
 ],
 "metadata": {
  "kernelspec": {
   "display_name": "Python 3",
   "language": "python",
   "name": "python3"
  },
  "language_info": {
   "codemirror_mode": {
    "name": "ipython",
    "version": 3
   },
   "file_extension": ".py",
   "mimetype": "text/x-python",
   "name": "python",
   "nbconvert_exporter": "python",
   "pygments_lexer": "ipython3",
   "version": "3.11.3"
  },
  "orig_nbformat": 4
 },
 "nbformat": 4,
 "nbformat_minor": 2
}
